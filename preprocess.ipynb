{
 "cells": [
  {
   "cell_type": "markdown",
   "metadata": {},
   "source": [
    "# NLIL"
   ]
  },
  {
   "cell_type": "code",
   "execution_count": 1,
   "metadata": {
    "collapsed": true
   },
   "outputs": [],
   "source": [
    "from collections import defaultdict\n",
    "import re\n",
    "\n",
    "import pandas as pd"
   ]
  },
  {
   "cell_type": "markdown",
   "metadata": {},
   "source": [
    "## 簡單分幾個column"
   ]
  },
  {
   "cell_type": "code",
   "execution_count": 2,
   "metadata": {
    "collapsed": true
   },
   "outputs": [],
   "source": [
    "raw = pd.read_json('data/news.json')"
   ]
  },
  {
   "cell_type": "code",
   "execution_count": 3,
   "metadata": {
    "collapsed": true
   },
   "outputs": [],
   "source": [
    "data = defaultdict(list)\n",
    "columns = 'title time from content'.split()\n",
    "pattern = ('(?P<title>.*|)'\n",
    "           ' - 中時電子報\\s*'\n",
    "           '(?P<time>20[0-1][0-9]年[0-1][0-9]月[0-3][0-9]日 [0-2][0-9]:[0-5][0-9])'\n",
    "           '(中國時報|中時及時) '\n",
    "           '(?P<from>[^\\n]*)'\n",
    "           '\\s*'\n",
    "           '(?P<content>.*$)')\n",
    "pattern = re.compile(pattern, flags=re.DOTALL)\n",
    "for i, news in enumerate(raw.news, 1):\n",
    "    match = pattern.search(news)\n",
    "    if match is None: continue\n",
    "    for col in columns:\n",
    "        data[col].append(match.group(col))\n",
    "data = pd.DataFrame(data)[columns]"
   ]
  },
  {
   "cell_type": "markdown",
   "metadata": {},
   "source": [
    "## Split\n",
    "\n",
    "- 根據有沒有出現法、律、條例、通則分成 `implicit` 和 `explicit`\n",
    "- 應該要先針對 `explicit` 做點事 QAQ"
   ]
  },
  {
   "cell_type": "code",
   "execution_count": 8,
   "metadata": {
    "collapsed": true
   },
   "outputs": [],
   "source": [
    "related_words = {'法', '律', '條例', '通則'}\n",
    "explicit = data.content.map(lambda s: any(word in s for word in related_words))\n",
    "name = 'implicit', 'explicit'\n",
    "for i, group in data.groupby(explicit):\n",
    "    group.to_json('data/%s.jsonl'%name[i], lines=True, orient='records', force_ascii=False)"
   ]
  },
  {
   "cell_type": "markdown",
   "metadata": {},
   "source": [
    "## 斷詞\n",
    "\n",
    "- 先用 Jseg 斷一個， ckip 好麻煩"
   ]
  },
  {
   "cell_type": "code",
   "execution_count": 1,
   "metadata": {},
   "outputs": [
    {
     "name": "stderr",
     "output_type": "stream",
     "text": [
      "DEBUG:jseg.jieba:loading default dictionary\n"
     ]
    }
   ],
   "source": [
    "from jseg.jieba import Jieba\n",
    "segmenter = Jieba()"
   ]
  },
  {
   "cell_type": "code",
   "execution_count": 4,
   "metadata": {
    "collapsed": true
   },
   "outputs": [],
   "source": [
    "import json\n",
    "def pos_piece(piece, **arg):\n",
    "    if piece['title']:\n",
    "        title = segmenter.seg(piece['title'], **arg).raw\n",
    "    else:\n",
    "        title = ''\n",
    "    content = segmenter.seg(piece['content'], **arg).raw\n",
    "    piece['pos_title'] = title\n",
    "    piece['pos_content'] = content\n",
    "    return piece"
   ]
  },
  {
   "cell_type": "code",
   "execution_count": 3,
   "metadata": {
    "collapsed": true
   },
   "outputs": [],
   "source": [
    "with open('data/explicit.jsonl', 'r') as f:\n",
    "    data = [json.loads(piece) for piece in f]"
   ]
  },
  {
   "cell_type": "code",
   "execution_count": 4,
   "metadata": {},
   "outputs": [
    {
     "name": "stdout",
     "output_type": "stream",
     "text": [
      "{'title': '', 'time': '2010年10月24日 01:30', 'content': '七年前，年僅九歲及八歲的板橋市某國小劉姓姊妹，遭陳昆明殘忍殺害。案發後，他企圖以精神病脫罪，但更一審送鑑定結果是「無精神病」。無奈的是，原本獲判無期徒刑的陳嫌，兩度更審讓刑期縮減為十二年，減刑出獄的結果，卻是葬送另一條寶貴生命。\\n九十二年四月十六日，劉姓姊妹放學後，從此人間蒸發。警方成立「○四一六專案小組」，但案情始終陷入膠著，直到死者父親回憶起諸多蛛絲馬跡，發現九十年間因店面樓上整修，臨時工陳昆明出入近兩個月，從而與他的小孩混得很熟，直到陳當兵才失去聯絡。警方靠著這條線索，加上鄰居在案發前見到陳昆明在劉家附近徘徊，鎖定他涉有重嫌。\\n陳昆明案發前在劉家外等候兩姊妹，相約十六日放學後一同前往大賣場，兩姊妹上鉤後，他將兩人載往華中橋墩下小木屋，先騙姊姊喝下摻有ＦＭ２的飲料，待藥效發作，動手掐死姊姊；陳嫌接著再掐妹妹頸部，但妹妹踢打反抗、哀嚎，陳昆明隨手持磚塊重擊她頭部致死，事後將兩女童屍體丟入新店溪。\\n女童雙屍案偵結後，檢方依殺人罪將陳昆明提起公訴並具體求處極刑，一、二審均判處無期徒刑，但上訴高院之後，陳昆明的委任律師請求再送專門治療精神病的桃園療養院鑑定，但高院未予理會並維持原判。案經上訴，最高法院認為，陳昆明的精神狀態確有詳查必要，乃發回更審。\\n不料，高院更一審將陳昆明送桃園療養院鑑定，結果卻是「陳昆明並無精神病」，雖維持原判，但後續更審的結果，陳昆明先改判十六年，再改判十二年，最後搭上減刑的順風車，在去年七月出獄。\\n原本應與世隔絕的陳昆明，受惠國內司法制度減刑出獄，但他心中的惡魔卻伺機而動。經過一年的計畫，從假藉應徵手段到分租單身公寓，陳昆明預謀犯案的慾念似乎從未間斷，而現行司法制度間接造成無辜的林女枉死，未來應更慎重斟酌量刑。\\n(中國時報)\\n', 'from': '顏玉龍／新聞幕後', 'pos_title': '', 'pos_content': [('七', 'Ndabc'), ('年前', 'NN'), ('，', 'NN'), ('年僅', 'NN'), ('九', 'Neu'), ('歲', 'Nfg'), ('及', 'Caa'), ('八', 'Neu'), ('歲', 'Nfg'), ('的', 'DE'), ('板橋市', 'NN'), ('某', 'Nes'), ('國小', 'Ncb'), ('劉姓', 'NN'), ('姊妹', 'NN'), ('，', 'NN'), ('遭陳', 'NN'), ('昆明', 'NN'), ('殘忍', 'VH11'), ('殺害', 'VC2'), ('。', 'NN'), ('案發', 'NN'), ('後', 'Ng'), ('，', 'NN'), ('他', 'Nhaa'), ('企圖', 'VF1'), ('以', 'P11'), ('精神病', 'NN'), ('脫罪', 'NN'), ('，', 'NN'), ('但', 'Cbca'), ('更', 'Dfa'), ('一審', 'NN'), ('送', 'VD1'), ('鑑定', 'NN'), ('結果', 'Nac'), ('是', 'V_11'), ('「', 'NN'), ('無', 'VJ3'), ('精神病', 'NN'), ('」', 'NN'), ('。', 'NN'), ('無奈', 'VH21'), ('的', 'DE'), ('是', 'V_11'), ('，', 'NN'), ('原本', 'Dd'), ('獲判', 'NN'), ('無期徒刑', 'NN'), ('的', 'DE'), ('陳嫌', 'NN'), ('，', 'NN'), ('兩度', 'DM'), ('更審', 'NN'), ('讓', 'VL4'), ('刑期', 'NN'), ('縮減為', 'NN'), ('十二年', 'DM'), ('，', 'NN'), ('減刑', 'NN'), ('出獄', 'NN'), ('的', 'DE'), ('結果', 'Nac'), ('，', 'NN'), ('卻', 'Dbb'), ('是', 'V_11'), ('葬送', 'NN'), ('另', 'Nes'), ('一', 'Neu'), ('條', 'NN'), ('寶貴', 'VH11'), ('生命', 'Nac'), ('。', 'NN'), ('\\n', 'LINEBREAK'), ('九十二年', 'NN'), ('四月', 'Ndabc'), ('十六日', 'Ndabd'), ('，', 'NN'), ('劉姓', 'NN'), ('姊妹', 'NN'), ('放學', 'VH11'), ('後', 'Ng'), ('，', 'NN'), ('從此', 'Dd'), ('人間', 'Ncc'), ('蒸發', 'VA2'), ('。', 'NN'), ('警方', 'Naea'), ('成立', 'VC33'), ('「', 'NN'), ('○', 'NN'), ('四一六', 'NN'), ('專案', 'Nac'), ('小組', 'Nac'), ('」', 'NN'), ('，', 'NN'), ('但', 'Cbca'), ('案情', 'NN'), ('始終', 'NN'), ('陷入', 'VC1'), ('膠著', 'NN'), ('，', 'NN'), ('直到', 'P18'), ('死者', 'NN'), ('父親', 'Nab'), ('回憶起', 'NN'), ('諸多', 'Neqa'), ('蛛絲馬跡', 'NN'), ('，', 'NN'), ('發現', 'VE2'), ('九十年', 'NN'), ('間', 'Ng'), ('因', 'Cbaa'), ('店面', 'Nab'), ('樓上', 'NN'), ('整修', 'NN'), ('，', 'NN'), ('臨時工', 'NN'), ('陳', 'Nbc'), ('昆明', 'NN'), ('出入', 'VC1'), ('近', 'VH13'), ('兩', 'Neu'), ('個', 'Nfa'), ('月', 'Ndabc'), ('，', 'NN'), ('從而', 'Cbca'), ('與', 'P35'), ('他', 'Nhaa'), ('的', 'DE'), ('小孩', 'Nab'), ('混得', 'NN'), ('很熟', 'NN'), ('，', 'NN'), ('直到', 'P18'), ('陳', 'Nbc'), ('當兵', 'VA4'), ('才', 'Dd'), ('失去', 'VJ3'), ('聯絡', 'Nv1'), ('。', 'NN'), ('警方', 'Naea'), ('靠著', 'P27'), ('這', 'Nep'), ('條', 'NN'), ('線索', 'NN'), ('，', 'NN'), ('加上', 'Cbcb'), ('鄰居', 'Nab'), ('在', 'P21'), ('案發', 'NN'), ('前', 'Ng'), ('見到', 'VE2'), ('陳', 'Nbc'), ('昆明', 'NN'), ('在', 'P21'), ('劉家', 'NN'), ('附近', 'Ncb'), ('徘徊', 'VA11'), ('，', 'NN'), ('鎖定', 'VC2'), ('他', 'Nhaa'), ('涉有', 'NN'), ('重嫌', 'NN'), ('。', 'NN'), ('\\n', 'LINEBREAK'), ('陳', 'Nbc'), ('昆明', 'NN'), ('案發', 'NN'), ('前', 'Ng'), ('在', 'P21'), ('劉家', 'NN'), ('外', 'Ncda'), ('等候', 'VK2'), ('兩', 'Neu'), ('姊妹', 'NN'), ('，', 'NN'), ('相約', 'NN'), ('十六日', 'Ndabd'), ('放學', 'VH11'), ('後', 'Ng'), ('一同', 'Dh'), ('前往', 'VC1'), ('大賣場', 'NN'), ('，', 'NN'), ('兩', 'Neu'), ('姊妹', 'NN'), ('上鉤', 'VH11'), ('後', 'Ng'), ('，', 'NN'), ('他', 'Nhaa'), ('將', 'Dd'), ('兩', 'Neu'), ('人', 'Nab'), ('載往', 'NN'), ('華中', 'NN'), ('橋墩', 'NN'), ('下', 'Ncda'), ('小木屋', 'Ncb'), ('，', 'NN'), ('先騙', 'NN'), ('姊姊', 'Nab'), ('喝下', 'VC31'), ('摻有', 'NN'), ('ＦＭ２', 'NN'), ('的', 'DE'), ('飲料', 'Naa'), ('，', 'NN'), ('待', 'VC2'), ('藥效', 'NN'), ('發作', 'NN'), ('，', 'NN'), ('動手', 'VA4'), ('掐死', 'NN'), ('姊姊', 'Nab'), ('；', 'NN'), ('陳嫌', 'NN'), ('接著', 'Dd'), ('再', 'Dd'), ('掐', 'NN'), ('妹妹', 'Nab'), ('頸部', 'NN'), ('，', 'NN'), ('但', 'Cbca'), ('妹妹', 'Nab'), ('踢打', 'NN'), ('反抗', 'NN'), ('、', 'Caa'), ('哀嚎', 'NN'), ('，', 'NN'), ('陳', 'Nbc'), ('昆明', 'NN'), ('隨', 'P58'), ('手持', 'VC31'), ('磚塊', 'NN'), ('重擊', 'NN'), ('她', 'Nhaa'), ('頭部', 'NN'), ('致死', 'NN'), ('，', 'NN'), ('事後', 'NN'), ('將', 'Dd'), ('兩', 'Neu'), ('女童', 'Nab'), ('屍體', 'Nab'), ('丟入', 'NN'), ('新店溪', 'NN'), ('。', 'NN'), ('\\n', 'LINEBREAK'), ('女童', 'Nab'), ('雙屍案', 'NN'), ('偵結', 'NN'), ('後', 'Ng'), ('，', 'NN'), ('檢方', 'NN'), ('依', 'P42'), ('殺人罪', 'NN'), ('將', 'Dd'), ('陳', 'Nbc'), ('昆明', 'NN'), ('提起公訴', 'NN'), ('並', 'Dbb'), ('具體', 'VH11'), ('求處', 'NN'), ('極刑', 'NN'), ('，', 'NN'), ('一', 'Neu'), ('、', 'Caa'), ('二審', 'NN'), ('均', 'Dab'), ('判處', 'VC2'), ('無期徒刑', 'NN'), ('，', 'NN'), ('但', 'Cbca'), ('上訴', 'Nv1'), ('高院', 'NN'), ('之後', 'Ng'), ('，', 'NN'), ('陳', 'Nbc'), ('昆明', 'NN'), ('的', 'DE'), ('委任', 'NN'), ('律師', 'Nab'), ('請求', 'VF2'), ('再', 'Dd'), ('送', 'VD1'), ('專門', 'VL2'), ('治療', 'Nad'), ('精神病', 'NN'), ('的', 'DE'), ('桃園', 'Nca'), ('療養院', 'Ncb'), ('鑑定', 'NN'), ('，', 'NN'), ('但', 'Cbca'), ('高院', 'NN'), ('未予', 'NN'), ('理會', 'VC2'), ('並', 'Dbb'), ('維持', 'VJ1'), ('原判', 'NN'), ('。', 'NN'), ('案經', 'NN'), ('上訴', 'Nv1'), ('，', 'NN'), ('最高法院', 'NN'), ('認為', 'VE2'), ('，', 'NN'), ('陳', 'Nbc'), ('昆明', 'NN'), ('的', 'DE'), ('精神狀態', 'NN'), ('確有', 'NN'), ('詳查', 'NN'), ('必要', 'Nac'), ('，', 'NN'), ('乃', 'VG2'), ('發回', 'NN'), ('更審', 'NN'), ('。', 'NN'), ('\\n', 'LINEBREAK'), ('不料', 'Dbb'), ('，', 'NN'), ('高院', 'NN'), ('更', 'Dfa'), ('一審', 'NN'), ('將', 'Dd'), ('陳', 'Nbc'), ('昆明', 'NN'), ('送', 'VD1'), ('桃園', 'Nca'), ('療養院', 'Ncb'), ('鑑定', 'NN'), ('，', 'NN'), ('結果', 'Nac'), ('卻', 'Dbb'), ('是', 'V_11'), ('「', 'NN'), ('陳', 'Nbc'), ('昆明', 'NN'), ('並', 'Dbb'), ('無', 'VJ3'), ('精神病', 'NN'), ('」', 'NN'), ('，', 'NN'), ('雖', 'Cbba'), ('維持', 'VJ1'), ('原判', 'NN'), ('，', 'NN'), ('但', 'Cbca'), ('後續', 'NN'), ('更審', 'NN'), ('的', 'DE'), ('結果', 'Nac'), ('，', 'NN'), ('陳', 'Nbc'), ('昆明', 'NN'), ('先', 'Dd'), ('改判', 'NN'), ('十六年', 'NN'), ('，', 'NN'), ('再', 'Dd'), ('改判', 'NN'), ('十二年', 'DM'), ('，', 'NN'), ('最後', 'Nddc'), ('搭上', 'VC33'), ('減刑', 'NN'), ('的', 'DE'), ('順風車', 'NN'), ('，', 'NN'), ('在', 'P21'), ('去年', 'Ndaba'), ('七月', 'Ndabc'), ('出獄', 'NN'), ('。', 'NN'), ('\\n', 'LINEBREAK'), ('原本', 'Dd'), ('應', 'Dbab'), ('與世隔絕', 'VH11'), ('的', 'DE'), ('陳', 'Nbc'), ('昆明', 'NN'), ('，', 'NN'), ('受惠', 'NN'), ('國內', 'Ncc'), ('司法', 'Nad'), ('制度', 'Nac'), ('減刑', 'NN'), ('出獄', 'NN'), ('，', 'NN'), ('但', 'Cbca'), ('他心', 'NN'), ('中', 'Ng'), ('的', 'DE'), ('惡魔', 'NN'), ('卻', 'Dbb'), ('伺機而動', 'NN'), ('。', 'NN'), ('經過', 'VC1'), ('一年', 'DM'), ('的', 'DE'), ('計畫', 'Nac'), ('，', 'NN'), ('從', 'P19'), ('假藉', 'NN'), ('應徵', 'NN'), ('手段', 'Nac'), ('到', 'VC1'), ('分租', 'NN'), ('單身', 'VH11'), ('公寓', 'Nab'), ('，', 'NN'), ('陳', 'Nbc'), ('昆明', 'NN'), ('預謀', 'NN'), ('犯案', 'NN'), ('的', 'DE'), ('慾念', 'NN'), ('似乎', 'Dbaa'), ('從未', 'Dd'), ('間斷', 'VH16'), ('，', 'NN'), ('而', 'Cbca'), ('現行', 'A'), ('司法', 'Nad'), ('制度', 'Nac'), ('間接', 'A'), ('造成', 'VK2'), ('無辜', 'VH11'), ('的', 'DE'), ('林女', 'NN'), ('枉死', 'NN'), ('，', 'NN'), ('未來', 'Nddb'), ('應', 'Dbab'), ('更', 'Dfa'), ('慎重', 'NN'), ('斟酌', 'NN'), ('量刑', 'NN'), ('。', 'NN'), ('\\n', 'LINEBREAK'), ('(', 'NN'), ('中國時報', 'NN'), (')', 'NN'), ('\\n', 'LINEBREAK')]}\n"
     ]
    }
   ],
   "source": [
    "for i, piece in enumerate(data, 1):\n",
    "    pos_piece(piece, pos=True)\n",
    "    print('%5d/%5d'%(i, len(data)), end='\\r')\n",
    "print(data[0])"
   ]
  },
  {
   "cell_type": "code",
   "execution_count": 5,
   "metadata": {
    "collapsed": true
   },
   "outputs": [],
   "source": [
    "with open('data/explicit_jseg.jsonl', 'w') as f:\n",
    "    print(*(json.dumps(piece, ensure_ascii=False) for piece in data), sep='\\n', file=f)"
   ]
  },
  {
   "cell_type": "markdown",
   "metadata": {},
   "source": [
    "---"
   ]
  },
  {
   "cell_type": "markdown",
   "metadata": {},
   "source": [
    "# CKIP segmenter"
   ]
  },
  {
   "cell_type": "markdown",
   "metadata": {},
   "source": [
    "```python\n",
    "from PyCCS import ckip\n",
    "segmenter = ckip\n",
    "\n",
    "with open('data/explicit.jsonl', 'r') as f:\n",
    "    data = [json.loads(piece) for piece in f]\n",
    "with open('data/explicit_ckip.jsonl', 'w') as f:\n",
    "    for i, piece in enumerate(data, 1):\n",
    "        pos_piece(piece)\n",
    "        print(json.dumps(piece, ensure_ascii=False), file=f)\n",
    "        print('%5d/%5d'%(i, len(data)), end='\\r')\n",
    "```"
   ]
  },
  {
   "cell_type": "code",
   "execution_count": 5,
   "metadata": {},
   "outputs": [
    {
     "name": "stdout",
     "output_type": "stream",
     "text": [
      "12774/12774\r"
     ]
    }
   ],
   "source": [
    "from PyCCS import ckip\n",
    "segmenter = ckip\n",
    "\n",
    "with open('data/implicit.jsonl', 'r') as f:\n",
    "    data = [json.loads(piece) for piece in f]\n",
    "with open('data/implicit_ckip.jsonl', 'w') as f:\n",
    "    for i, piece in enumerate(data, 1):\n",
    "        pos_piece(piece)\n",
    "        print(json.dumps(piece, ensure_ascii=False), file=f)\n",
    "        print('%5d/%5d'%(i, len(data)), end='\\r')"
   ]
  },
  {
   "cell_type": "markdown",
   "metadata": {},
   "source": [
    "---"
   ]
  }
 ],
 "metadata": {
  "kernelspec": {
   "display_name": "Python 3",
   "language": "python",
   "name": "python3"
  },
  "language_info": {
   "codemirror_mode": {
    "name": "ipython",
    "version": 3
   },
   "file_extension": ".py",
   "mimetype": "text/x-python",
   "name": "python",
   "nbconvert_exporter": "python",
   "pygments_lexer": "ipython3",
   "version": "3.4.2"
  }
 },
 "nbformat": 4,
 "nbformat_minor": 2
}
