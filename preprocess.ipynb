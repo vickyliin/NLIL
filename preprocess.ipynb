{
 "cells": [
  {
   "cell_type": "markdown",
   "metadata": {},
   "source": [
    "# NLIL"
   ]
  },
  {
   "cell_type": "code",
   "execution_count": 1,
   "metadata": {
    "collapsed": true
   },
   "outputs": [],
   "source": [
    "from collections import defaultdict\n",
    "import re\n",
    "\n",
    "import pandas as pd"
   ]
  },
  {
   "cell_type": "markdown",
   "metadata": {},
   "source": [
    "## 簡單分幾個column"
   ]
  },
  {
   "cell_type": "code",
   "execution_count": 2,
   "metadata": {
    "collapsed": true
   },
   "outputs": [],
   "source": [
    "raw = pd.read_json('data/news.json')"
   ]
  },
  {
   "cell_type": "code",
   "execution_count": 3,
   "metadata": {
    "collapsed": true
   },
   "outputs": [],
   "source": [
    "data = defaultdict(list)\n",
    "columns = 'title time from content'.split()\n",
    "pattern = ('(?P<title>.*|)'\n",
    "           ' - 中時電子報\\s*'\n",
    "           '(?P<time>20[0-1][0-9]年[0-1][0-9]月[0-3][0-9]日 [0-2][0-9]:[0-5][0-9])'\n",
    "           '(中國時報|中時及時) '\n",
    "           '(?P<from>[^\\n]*)'\n",
    "           '\\s*'\n",
    "           '(?P<content>.*$)')\n",
    "pattern = re.compile(pattern, flags=re.DOTALL)\n",
    "for i, news in enumerate(raw.news, 1):\n",
    "    match = pattern.search(news)\n",
    "    if match is None: continue\n",
    "    for col in columns:\n",
    "        data[col].append(match.group(col))\n",
    "data = pd.DataFrame(data)[columns]"
   ]
  },
  {
   "cell_type": "markdown",
   "metadata": {},
   "source": [
    "## Split\n",
    "\n",
    "- 根據有沒有出現法、律、條例、通則分成 `implicit` 和 `explicit`\n",
    "- 應該要先針對 `explicit` 做點事 QAQ"
   ]
  },
  {
   "cell_type": "code",
   "execution_count": 8,
   "metadata": {
    "collapsed": true
   },
   "outputs": [],
   "source": [
    "related_words = {'法', '律', '條例', '通則'}\n",
    "explicit = data.content.map(lambda s: any(word in s for word in related_words))\n",
    "name = 'implicit', 'explicit'\n",
    "for i, group in data.groupby(explicit):\n",
    "    group.to_json('data/%s.jsonl'%name[i], lines=True, orient='records', force_ascii=False)"
   ]
  },
  {
   "cell_type": "markdown",
   "metadata": {},
   "source": [
    "## 斷詞\n",
    "\n",
    "- 先用 Jseg 斷一個， ckip 好麻煩"
   ]
  },
  {
   "cell_type": "code",
   "execution_count": 4,
   "metadata": {},
   "outputs": [
    {
     "name": "stderr",
     "output_type": "stream",
     "text": [
      "DEBUG:jseg.jieba:loading default dictionary\n"
     ]
    }
   ],
   "source": [
    "import json\n",
    "from multiprocessing import Pool\n",
    "\n",
    "from jseg.jieba import Jieba\n",
    "segmenter = Jieba()"
   ]
  },
  {
   "cell_type": "code",
   "execution_count": 5,
   "metadata": {
    "collapsed": true
   },
   "outputs": [],
   "source": [
    "def pos_piece(piece):\n",
    "    if piece['title']:\n",
    "        title = segmenter.seg(piece['title'], pos=True).raw\n",
    "    else:\n",
    "        title = ''\n",
    "    content = segmenter.seg(piece['content'], pos=True).raw\n",
    "    piece['pos_title'] = title\n",
    "    piece['pos_content'] = content"
   ]
  },
  {
   "cell_type": "code",
   "execution_count": 6,
   "metadata": {},
   "outputs": [],
   "source": [
    "with open('data/explicit.jsonl', 'r') as f:\n",
    "    data = [json.loads(piece) for piece in f]"
   ]
  },
  {
   "cell_type": "code",
   "execution_count": 7,
   "metadata": {},
   "outputs": [
    {
     "name": "stdout",
     "output_type": "stream",
     "text": [
      "19827/19827\r"
     ]
    }
   ],
   "source": [
    "for i, piece in enumerate(data, 1):\n",
    "    pos_piece(piece)\n",
    "    print('%5d/%5d'%(i, len(data)), end='\\r')"
   ]
  },
  {
   "cell_type": "code",
   "execution_count": 10,
   "metadata": {},
   "outputs": [],
   "source": [
    "with open('data/explicit_jseg.jsonl', 'w') as f:\n",
    "    print(json.dumps(data, ensure_ascii=False), file=f)"
   ]
  },
  {
   "cell_type": "markdown",
   "metadata": {},
   "source": [
    "---"
   ]
  }
 ],
 "metadata": {
  "kernelspec": {
   "display_name": "Python 3",
   "language": "python",
   "name": "python3"
  },
  "language_info": {
   "codemirror_mode": {
    "name": "ipython",
    "version": 3
   },
   "file_extension": ".py",
   "mimetype": "text/x-python",
   "name": "python",
   "nbconvert_exporter": "python",
   "pygments_lexer": "ipython3",
   "version": "3.4.2"
  }
 },
 "nbformat": 4,
 "nbformat_minor": 2
}
