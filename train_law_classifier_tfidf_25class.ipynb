{
 "cells": [
  {
   "cell_type": "code",
   "execution_count": 1,
   "metadata": {},
   "outputs": [
    {
     "name": "stderr",
     "output_type": "stream",
     "text": [
      "Using TensorFlow backend.\n"
     ]
    }
   ],
   "source": [
    "import pandas as pd\n",
    "import numpy as np\n",
    "import json\n",
    "import pickle\n",
    "\n",
    "from keras.models import Sequential\n",
    "from keras.layers import Dense\n",
    "from keras.utils import to_categorical\n",
    "from keras.layers import Dropout\n",
    "\n",
    "from sklearn.feature_extraction.text import TfidfVectorizer\n",
    "from sklearn.pipeline import make_pipeline\n",
    "from sklearn.preprocessing import Normalizer\n",
    "from sklearn.decomposition import TruncatedSVD\n",
    "from sklearn.model_selection import train_test_split\n",
    "from sklearn.metrics.pairwise import cosine_similarity\n",
    "from sklearn.metrics import accuracy_score\n",
    "\n",
    "from vickygod import *\n",
    "%matplotlib inline"
   ]
  },
  {
   "cell_type": "markdown",
   "metadata": {},
   "source": [
    "# Vicky's Godly Dataset"
   ]
  },
  {
   "cell_type": "code",
   "execution_count": 2,
   "metadata": {},
   "outputs": [
    {
     "data": {
      "text/html": [
       "<div>\n",
       "<table border=\"1\" class=\"dataframe\">\n",
       "  <thead>\n",
       "    <tr style=\"text-align: right;\">\n",
       "      <th></th>\n",
       "      <th>Arg1</th>\n",
       "      <th>Arg2</th>\n",
       "      <th>Relation</th>\n",
       "    </tr>\n",
       "  </thead>\n",
       "  <tbody>\n",
       "    <tr>\n",
       "      <th>0</th>\n",
       "      <td>[]</td>\n",
       "      <td>[七, 年前, ，, 年, 僅, 九, 歲, 及, 八, 歲, 的, 板橋市, 某, 國小,...</td>\n",
       "      <td>殺人罪</td>\n",
       "    </tr>\n",
       "    <tr>\n",
       "      <th>1</th>\n",
       "      <td>[0, ‧, 3, 坪, 喊價, 800萬, 畸零地, 圍籬, 阻, 路, 拆, ！]</td>\n",
       "      <td>[○, ．, 三, 坪, 畸零地, 能, 「, 螞蟻, 吃, 大象, 」, ？, 北市, 議...</td>\n",
       "      <td>道路交通管理處罰條例</td>\n",
       "    </tr>\n",
       "    <tr>\n",
       "      <th>2</th>\n",
       "      <td>[100, cc, 催芽劑奪, 信義, 鄉四, 命]</td>\n",
       "      <td>[信義, 鄉民, 朱明福, ，, 涉嫌, 將, 催芽劑, 摻入, 米酒, ，, 導致, 前,...</td>\n",
       "      <td>殺人罪</td>\n",
       "    </tr>\n",
       "    <tr>\n",
       "      <th>3</th>\n",
       "      <td>[101, 前董座, 林鴻明, 二審, 輕, 判, 1年, 8月]</td>\n",
       "      <td>[前, 台北, 101, 董事長, 林鴻明, ，, 被, 控, 掏空, 股票, 上市, 的,...</td>\n",
       "      <td>證券交易法</td>\n",
       "    </tr>\n",
       "    <tr>\n",
       "      <th>4</th>\n",
       "      <td>[101, 大樓, 前添, 紛爭, 台獨, 大, 旗, 砸傷, 人]</td>\n",
       "      <td>[台北, 101, 大樓, 前, 法輪, 功, 、, 愛國, 同心, 會, 的, 爭端, ，...</td>\n",
       "      <td>傷害罪</td>\n",
       "    </tr>\n",
       "  </tbody>\n",
       "</table>\n",
       "</div>"
      ],
      "text/plain": [
       "                                          Arg1  \\\n",
       "0                                           []   \n",
       "1  [0, ‧, 3, 坪, 喊價, 800萬, 畸零地, 圍籬, 阻, 路, 拆, ！]   \n",
       "2                   [100, cc, 催芽劑奪, 信義, 鄉四, 命]   \n",
       "3            [101, 前董座, 林鴻明, 二審, 輕, 判, 1年, 8月]   \n",
       "4           [101, 大樓, 前添, 紛爭, 台獨, 大, 旗, 砸傷, 人]   \n",
       "\n",
       "                                                Arg2    Relation  \n",
       "0  [七, 年前, ，, 年, 僅, 九, 歲, 及, 八, 歲, 的, 板橋市, 某, 國小,...         殺人罪  \n",
       "1  [○, ．, 三, 坪, 畸零地, 能, 「, 螞蟻, 吃, 大象, 」, ？, 北市, 議...  道路交通管理處罰條例  \n",
       "2  [信義, 鄉民, 朱明福, ，, 涉嫌, 將, 催芽劑, 摻入, 米酒, ，, 導致, 前,...         殺人罪  \n",
       "3  [前, 台北, 101, 董事長, 林鴻明, ，, 被, 控, 掏空, 股票, 上市, 的,...       證券交易法  \n",
       "4  [台北, 101, 大樓, 前, 法輪, 功, 、, 愛國, 同心, 會, 的, 爭端, ，...         傷害罪  "
      ]
     },
     "execution_count": 2,
     "metadata": {},
     "output_type": "execute_result"
    }
   ],
   "source": [
    "dataset = pickle.load(open('data/selected_frames.data.p', 'rb'))\n",
    "law_count = pd.Series.from_csv('data/occurrence.csv')\n",
    "relation25 = law_count[:25].index\n",
    "dataset = dataset[dataset.Relation.isin(relation25)]\n",
    "dataset.head()"
   ]
  },
  {
   "cell_type": "code",
   "execution_count": 3,
   "metadata": {
    "collapsed": true
   },
   "outputs": [],
   "source": [
    "laws = dataset.Relation.unique().tolist()"
   ]
  },
  {
   "cell_type": "markdown",
   "metadata": {},
   "source": [
    "# Parameters"
   ]
  },
  {
   "cell_type": "code",
   "execution_count": 4,
   "metadata": {
    "collapsed": true
   },
   "outputs": [],
   "source": [
    "n_classes = len(laws)\n",
    "n_svd = 300"
   ]
  },
  {
   "cell_type": "markdown",
   "metadata": {},
   "source": [
    "# Generate Training Data"
   ]
  },
  {
   "cell_type": "code",
   "execution_count": 5,
   "metadata": {
    "collapsed": true
   },
   "outputs": [],
   "source": [
    "train_X, train_Y = [], []\n",
    "for index, frame in dataset.iterrows():\n",
    "    law_ind = laws.index(frame['Relation'])\n",
    "    seg_content = ' '.join(frame['Arg2'])\n",
    "    train_X.append(seg_content)\n",
    "    train_Y.append(law_ind)"
   ]
  },
  {
   "cell_type": "markdown",
   "metadata": {},
   "source": [
    "# 1. Make artilcles of same classes into a huge document & Tfidf"
   ]
  },
  {
   "cell_type": "code",
   "execution_count": 6,
   "metadata": {},
   "outputs": [
    {
     "name": "stdout",
     "output_type": "stream",
     "text": [
      "Acc: 0.766975\n"
     ]
    }
   ],
   "source": [
    "train_x, valid_x, train_y, valid_y = train_test_split(train_X, train_Y, test_size=0.25, random_state=42)\n",
    "huge_doc = {c: '' for c in range(n_classes)}\n",
    "for x, y in zip(train_x, train_y):\n",
    "    huge_doc[y] += ' ' + x\n",
    "\n",
    "# 0~n_classes store huge doc\n",
    "corpus = [huge_doc[c] for c in range(n_classes)] + valid_x\n",
    "vectorizer = TfidfVectorizer()\n",
    "vectors = vectorizer.fit_transform(corpus)\n",
    "train_vec, valid_vec = vectors[:n_classes], vectors[n_classes:]\n",
    "\n",
    "pred_y = []\n",
    "for i, y in enumerate(valid_y):\n",
    "    # Get largest similarity\n",
    "    pred_y.append(cosine_similarity(train_vec, valid_vec[i]).T[0].argsort()[-1])\n",
    "\n",
    "print('Acc: %.6f' % accuracy_score(valid_y, pred_y))"
   ]
  },
  {
   "cell_type": "markdown",
   "metadata": {},
   "source": [
    "# 2. Tfidf & LSA for each articles"
   ]
  },
  {
   "cell_type": "code",
   "execution_count": 7,
   "metadata": {
    "collapsed": true
   },
   "outputs": [],
   "source": [
    "vectorizer = TfidfVectorizer()\n",
    "vectors = vectorizer.fit_transform(train_X)\n",
    "svd = TruncatedSVD(n_svd)\n",
    "normalizer = Normalizer()\n",
    "lsa = make_pipeline(svd, normalizer)\n",
    "\n",
    "train_x = lsa.fit_transform(vectors)\n",
    "train_y = to_categorical(train_Y, n_classes)\n",
    "\n",
    "train_x, valid_x, train_y, valid_y = train_test_split(train_x, train_y, test_size=0.25, random_state=42)"
   ]
  },
  {
   "cell_type": "markdown",
   "metadata": {},
   "source": [
    "# A Garbage Model"
   ]
  },
  {
   "cell_type": "code",
   "execution_count": 8,
   "metadata": {
    "collapsed": true
   },
   "outputs": [],
   "source": [
    "def get_garbage_model():\n",
    "    model = Sequential()\n",
    "    model.add(Dense(n_svd // 2, activation='relu', input_dim=n_svd))\n",
    "    model.add(Dropout(0.3))\n",
    "    model.add(Dense(n_svd // 4, activation='relu'))\n",
    "    model.add(Dense(n_classes, activation='softmax'))\n",
    "    return model"
   ]
  },
  {
   "cell_type": "code",
   "execution_count": 9,
   "metadata": {},
   "outputs": [
    {
     "name": "stdout",
     "output_type": "stream",
     "text": [
      "Max Valid Acc Epoch\n",
      "            acc      loss      acc      loss\n",
      "          train     train    valid     valid\n",
      "epoch                                       \n",
      "30     0.988169  0.053968  0.79321  0.968649\n",
      "34     0.992798  0.039363  0.79321  1.022738\n",
      "39     0.992798  0.037815  0.79321  1.046066\n"
     ]
    },
    {
     "data": {
      "image/png": "[encoded data removed]",
      "text/plain": [
       "<matplotlib.figure.Figure at 0x7fd01d5b2908>"
      ]
     },
     "metadata": {},
     "output_type": "display_data"
    },
    {
     "data": {
      "image/png": "[encoded data removed]",
      "text/plain": [
       "<matplotlib.figure.Figure at 0x7fd01d5b21d0>"
      ]
     },
     "metadata": {},
     "output_type": "display_data"
    }
   ],
   "source": [
    "model = get_garbage_model()\n",
    "model.compile(optimizer='adam',\n",
    "              loss='categorical_crossentropy',\n",
    "              metrics=['accuracy'])\n",
    "hist = model.fit(train_x ,train_y, epochs=50, validation_data=(valid_x, valid_y), verbose=0)\n",
    "record(hist)"
   ]
  }
 ],
 "metadata": {
  "kernelspec": {
   "display_name": "Python 3",
   "language": "python",
   "name": "python3"
  },
  "language_info": {
   "codemirror_mode": {
    "name": "ipython",
    "version": 3
   },
   "file_extension": ".py",
   "mimetype": "text/x-python",
   "name": "python",
   "nbconvert_exporter": "python",
   "pygments_lexer": "ipython3",
   "version": "3.4.2"
  }
 },
 "nbformat": 4,
 "nbformat_minor": 1
}
