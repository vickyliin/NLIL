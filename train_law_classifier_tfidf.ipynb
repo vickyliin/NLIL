{
 "cells": [
  {
   "cell_type": "code",
   "execution_count": 15,
   "metadata": {
    "collapsed": false
   },
   "outputs": [],
   "source": [
    "import pandas as pd\n",
    "import json\n",
    "import pickle\n",
    "\n",
    "from keras.models import Sequential\n",
    "from keras.layers import Dense\n",
    "from keras.utils import to_categorical\n",
    "from keras.layers import Dropout\n",
    "\n",
    "from sklearn.feature_extraction.text import TfidfVectorizer\n",
    "from sklearn.pipeline import make_pipeline\n",
    "from sklearn.preprocessing import Normalizer\n",
    "from sklearn.decomposition import TruncatedSVD\n",
    "from sklearn.model_selection import train_test_split\n",
    "\n",
    "import matplotlib\n",
    "import matplotlib.pyplot as plt\n",
    "plt.style.use('ggplot')\n",
    "%matplotlib inline"
   ]
  },
  {
   "cell_type": "markdown",
   "metadata": {},
   "source": [
    "# Vicky's Godly Dataset"
   ]
  },
  {
   "cell_type": "code",
   "execution_count": 12,
   "metadata": {
    "collapsed": false
   },
   "outputs": [
    {
     "data": {
      "text/html": [
       "<div>\n",
       "<table border=\"1\" class=\"dataframe\">\n",
       "  <thead>\n",
       "    <tr style=\"text-align: right;\">\n",
       "      <th></th>\n",
       "      <th>Arg1</th>\n",
       "      <th>Arg2</th>\n",
       "      <th>Relation</th>\n",
       "    </tr>\n",
       "  </thead>\n",
       "  <tbody>\n",
       "    <tr>\n",
       "      <th>0</th>\n",
       "      <td>[]</td>\n",
       "      <td>[七, 年前, ，, 年, 僅, 九, 歲, 及, 八, 歲, 的, 板橋市, 某, 國小,...</td>\n",
       "      <td>殺人罪</td>\n",
       "    </tr>\n",
       "    <tr>\n",
       "      <th>1</th>\n",
       "      <td>[0, ‧, 3, 坪, 喊價, 800萬, 畸零地, 圍籬, 阻, 路, 拆, ！]</td>\n",
       "      <td>[○, ．, 三, 坪, 畸零地, 能, 「, 螞蟻, 吃, 大象, 」, ？, 北市, 議...</td>\n",
       "      <td>道路交通管理處罰條例</td>\n",
       "    </tr>\n",
       "    <tr>\n",
       "      <th>2</th>\n",
       "      <td>[100, cc, 催芽劑奪, 信義, 鄉四, 命]</td>\n",
       "      <td>[信義, 鄉民, 朱明福, ，, 涉嫌, 將, 催芽劑, 摻入, 米酒, ，, 導致, 前,...</td>\n",
       "      <td>殺人罪</td>\n",
       "    </tr>\n",
       "    <tr>\n",
       "      <th>3</th>\n",
       "      <td>[101, 前董座, 林鴻明, 二審, 輕, 判, 1年, 8月]</td>\n",
       "      <td>[前, 台北, 101, 董事長, 林鴻明, ，, 被, 控, 掏空, 股票, 上市, 的,...</td>\n",
       "      <td>證券交易法</td>\n",
       "    </tr>\n",
       "    <tr>\n",
       "      <th>4</th>\n",
       "      <td>[101, 大樓, 前添, 紛爭, 台獨, 大, 旗, 砸傷, 人]</td>\n",
       "      <td>[台北, 101, 大樓, 前, 法輪, 功, 、, 愛國, 同心, 會, 的, 爭端, ，...</td>\n",
       "      <td>傷害罪</td>\n",
       "    </tr>\n",
       "  </tbody>\n",
       "</table>\n",
       "</div>"
      ],
      "text/plain": [
       "                                          Arg1  \\\n",
       "0                                           []   \n",
       "1  [0, ‧, 3, 坪, 喊價, 800萬, 畸零地, 圍籬, 阻, 路, 拆, ！]   \n",
       "2                   [100, cc, 催芽劑奪, 信義, 鄉四, 命]   \n",
       "3            [101, 前董座, 林鴻明, 二審, 輕, 判, 1年, 8月]   \n",
       "4           [101, 大樓, 前添, 紛爭, 台獨, 大, 旗, 砸傷, 人]   \n",
       "\n",
       "                                                Arg2    Relation  \n",
       "0  [七, 年前, ，, 年, 僅, 九, 歲, 及, 八, 歲, 的, 板橋市, 某, 國小,...         殺人罪  \n",
       "1  [○, ．, 三, 坪, 畸零地, 能, 「, 螞蟻, 吃, 大象, 」, ？, 北市, 議...  道路交通管理處罰條例  \n",
       "2  [信義, 鄉民, 朱明福, ，, 涉嫌, 將, 催芽劑, 摻入, 米酒, ，, 導致, 前,...         殺人罪  \n",
       "3  [前, 台北, 101, 董事長, 林鴻明, ，, 被, 控, 掏空, 股票, 上市, 的,...       證券交易法  \n",
       "4  [台北, 101, 大樓, 前, 法輪, 功, 、, 愛國, 同心, 會, 的, 爭端, ，...         傷害罪  "
      ]
     },
     "execution_count": 12,
     "metadata": {},
     "output_type": "execute_result"
    }
   ],
   "source": [
    "dataset = pickle.load(open('data/selected_frames.data.p', 'rb'))\n",
    "dataset.head()"
   ]
  },
  {
   "cell_type": "code",
   "execution_count": 28,
   "metadata": {
    "collapsed": false
   },
   "outputs": [],
   "source": [
    "laws = dataset.Relation.unique().tolist()"
   ]
  },
  {
   "cell_type": "markdown",
   "metadata": {},
   "source": [
    "# Parameters"
   ]
  },
  {
   "cell_type": "code",
   "execution_count": 29,
   "metadata": {
    "collapsed": true
   },
   "outputs": [],
   "source": [
    "n_classes = len(laws)\n",
    "n_svd = 300"
   ]
  },
  {
   "cell_type": "markdown",
   "metadata": {},
   "source": [
    "# Generate Training Data"
   ]
  },
  {
   "cell_type": "code",
   "execution_count": null,
   "metadata": {
    "collapsed": false
   },
   "outputs": [],
   "source": [
    "train_x, train_y = [], []\n",
    "\n",
    "for index, frame in dataset.iterrows():\n",
    "    law = frame['Relation']\n",
    "    law_ind = laws.index(law)\n",
    "    seg_content = ' '.join(frame['Arg2'])\n",
    "    seg_content = seg_content.replace(law, '')\n",
    "    assert(law not in seg_content)\n",
    "    train_x.append(seg_content)\n",
    "    train_y.append(law_ind)\n",
    "    \n",
    "vectorizer = TfidfVectorizer()\n",
    "vectors = vectorizer.fit_transform(train_x)\n",
    "svd = TruncatedSVD(n_svd)\n",
    "normalizer = Normalizer()\n",
    "lsa = make_pipeline(svd, normalizer)\n",
    "\n",
    "train_x = lsa.fit_transform(vectors)\n",
    "train_y = to_categorical(train_y, n_classes)\n",
    "\n",
    "train_x, valid_x, train_y, valid_y = train_test_split(train_x, train_y, test_size=0.25, random_state=42)"
   ]
  },
  {
   "cell_type": "markdown",
   "metadata": {},
   "source": [
    "# A Garbage Model"
   ]
  },
  {
   "cell_type": "code",
   "execution_count": 6,
   "metadata": {
    "collapsed": true
   },
   "outputs": [],
   "source": [
    "def get_garbage_model():\n",
    "    model = Sequential()\n",
    "    model.add(Dense(n_svd // 2, activation='relu', input_dim=n_svd))\n",
    "    model.add(Dropout(0.3))\n",
    "    model.add(Dense(n_svd // 4, activation='relu'))\n",
    "    model.add(Dense(n_classes, activation='softmax'))\n",
    "    return model"
   ]
  },
  {
   "cell_type": "code",
   "execution_count": 7,
   "metadata": {
    "collapsed": false
   },
   "outputs": [
    {
     "name": "stdout",
     "output_type": "stream",
     "text": [
      "Train on 3016 samples, validate on 1006 samples\n",
      "Epoch 1/50\n",
      "3016/3016 [==============================] - 0s - loss: 4.9179 - acc: 0.1379 - val_loss: 4.0590 - val_acc: 0.1511\n",
      "Epoch 2/50\n",
      "3016/3016 [==============================] - 0s - loss: 3.8284 - acc: 0.1631 - val_loss: 3.7372 - val_acc: 0.2256\n",
      "Epoch 3/50\n",
      "3016/3016 [==============================] - 0s - loss: 3.3962 - acc: 0.2941 - val_loss: 3.3378 - val_acc: 0.3559\n",
      "Epoch 4/50\n",
      "3016/3016 [==============================] - 0s - loss: 2.9628 - acc: 0.4194 - val_loss: 3.0453 - val_acc: 0.4274\n",
      "Epoch 5/50\n",
      "3016/3016 [==============================] - 0s - loss: 2.6189 - acc: 0.4788 - val_loss: 2.8444 - val_acc: 0.4573\n",
      "Epoch 6/50\n",
      "3016/3016 [==============================] - 0s - loss: 2.3514 - acc: 0.5269 - val_loss: 2.7102 - val_acc: 0.4911\n",
      "Epoch 7/50\n",
      "3016/3016 [==============================] - 0s - loss: 2.1305 - acc: 0.5680 - val_loss: 2.5795 - val_acc: 0.5129\n",
      "Epoch 8/50\n",
      "3016/3016 [==============================] - 0s - loss: 1.9490 - acc: 0.5998 - val_loss: 2.4849 - val_acc: 0.5268\n",
      "Epoch 9/50\n",
      "3016/3016 [==============================] - 0s - loss: 1.7800 - acc: 0.6310 - val_loss: 2.4163 - val_acc: 0.5507\n",
      "Epoch 10/50\n",
      "3016/3016 [==============================] - 0s - loss: 1.6455 - acc: 0.6512 - val_loss: 2.3566 - val_acc: 0.5616\n",
      "Epoch 11/50\n",
      "3016/3016 [==============================] - 0s - loss: 1.5050 - acc: 0.6721 - val_loss: 2.3233 - val_acc: 0.5726\n",
      "Epoch 12/50\n",
      "3016/3016 [==============================] - 0s - loss: 1.3765 - acc: 0.6906 - val_loss: 2.2961 - val_acc: 0.5785\n",
      "Epoch 13/50\n",
      "3016/3016 [==============================] - 0s - loss: 1.2798 - acc: 0.7032 - val_loss: 2.2612 - val_acc: 0.5855\n",
      "Epoch 14/50\n",
      "3016/3016 [==============================] - 0s - loss: 1.1745 - acc: 0.7162 - val_loss: 2.2717 - val_acc: 0.5795\n",
      "Epoch 15/50\n",
      "3016/3016 [==============================] - 0s - loss: 1.0772 - acc: 0.7338 - val_loss: 2.2515 - val_acc: 0.5934\n",
      "Epoch 16/50\n",
      "3016/3016 [==============================] - 0s - loss: 0.9947 - acc: 0.7487 - val_loss: 2.2709 - val_acc: 0.5885\n",
      "Epoch 17/50\n",
      "3016/3016 [==============================] - 0s - loss: 0.9182 - acc: 0.7682 - val_loss: 2.2557 - val_acc: 0.5915\n",
      "Epoch 18/50\n",
      "3016/3016 [==============================] - 0s - loss: 0.8459 - acc: 0.7739 - val_loss: 2.2634 - val_acc: 0.5974\n",
      "Epoch 19/50\n",
      "3016/3016 [==============================] - 0s - loss: 0.7684 - acc: 0.7954 - val_loss: 2.2784 - val_acc: 0.5994\n",
      "Epoch 20/50\n",
      "3016/3016 [==============================] - 0s - loss: 0.7009 - acc: 0.8160 - val_loss: 2.3042 - val_acc: 0.6024\n",
      "Epoch 21/50\n",
      "3016/3016 [==============================] - 0s - loss: 0.6650 - acc: 0.8213 - val_loss: 2.3091 - val_acc: 0.6054\n",
      "Epoch 22/50\n",
      "3016/3016 [==============================] - 0s - loss: 0.6008 - acc: 0.8362 - val_loss: 2.3189 - val_acc: 0.5984\n",
      "Epoch 23/50\n",
      "3016/3016 [==============================] - 0s - loss: 0.5636 - acc: 0.8468 - val_loss: 2.3502 - val_acc: 0.5994\n",
      "Epoch 24/50\n",
      "3016/3016 [==============================] - 0s - loss: 0.5038 - acc: 0.8627 - val_loss: 2.3530 - val_acc: 0.6093\n",
      "Epoch 25/50\n",
      "3016/3016 [==============================] - 0s - loss: 0.4836 - acc: 0.8747 - val_loss: 2.3935 - val_acc: 0.6034\n",
      "Epoch 26/50\n",
      "3016/3016 [==============================] - 0s - loss: 0.4478 - acc: 0.8786 - val_loss: 2.3922 - val_acc: 0.6064\n",
      "Epoch 27/50\n",
      "3016/3016 [==============================] - 0s - loss: 0.4053 - acc: 0.8919 - val_loss: 2.4240 - val_acc: 0.6054\n",
      "Epoch 28/50\n",
      "3016/3016 [==============================] - 0s - loss: 0.4220 - acc: 0.8840 - val_loss: 2.4445 - val_acc: 0.6093\n",
      "Epoch 29/50\n",
      "3016/3016 [==============================] - 0s - loss: 0.3763 - acc: 0.8962 - val_loss: 2.4547 - val_acc: 0.6103\n",
      "Epoch 30/50\n",
      "3016/3016 [==============================] - 0s - loss: 0.3360 - acc: 0.9098 - val_loss: 2.4826 - val_acc: 0.6093\n",
      "Epoch 31/50\n",
      "3016/3016 [==============================] - 0s - loss: 0.3137 - acc: 0.9161 - val_loss: 2.5002 - val_acc: 0.6074\n",
      "Epoch 32/50\n",
      "3016/3016 [==============================] - 0s - loss: 0.3048 - acc: 0.9194 - val_loss: 2.5295 - val_acc: 0.6093\n",
      "Epoch 33/50\n",
      "3016/3016 [==============================] - 0s - loss: 0.2813 - acc: 0.9287 - val_loss: 2.5639 - val_acc: 0.6014\n",
      "Epoch 34/50\n",
      "3016/3016 [==============================] - 0s - loss: 0.2659 - acc: 0.9327 - val_loss: 2.5834 - val_acc: 0.6024\n",
      "Epoch 35/50\n",
      "3016/3016 [==============================] - 0s - loss: 0.2426 - acc: 0.9340 - val_loss: 2.5982 - val_acc: 0.6083\n",
      "Epoch 36/50\n",
      "3016/3016 [==============================] - 0s - loss: 0.2394 - acc: 0.9390 - val_loss: 2.6285 - val_acc: 0.6083\n",
      "Epoch 37/50\n",
      "3016/3016 [==============================] - 0s - loss: 0.2306 - acc: 0.9373 - val_loss: 2.6361 - val_acc: 0.6113\n",
      "Epoch 38/50\n",
      "3016/3016 [==============================] - 0s - loss: 0.2214 - acc: 0.9393 - val_loss: 2.6438 - val_acc: 0.6133\n",
      "Epoch 39/50\n",
      "3016/3016 [==============================] - 0s - loss: 0.1926 - acc: 0.9493 - val_loss: 2.6698 - val_acc: 0.6113\n",
      "Epoch 40/50\n",
      "3016/3016 [==============================] - 0s - loss: 0.2042 - acc: 0.9486 - val_loss: 2.6878 - val_acc: 0.6044\n",
      "Epoch 41/50\n",
      "3016/3016 [==============================] - 0s - loss: 0.2046 - acc: 0.9430 - val_loss: 2.6931 - val_acc: 0.6133\n",
      "Epoch 42/50\n",
      "3016/3016 [==============================] - 0s - loss: 0.1663 - acc: 0.9586 - val_loss: 2.7045 - val_acc: 0.6133\n",
      "Epoch 43/50\n",
      "3016/3016 [==============================] - 0s - loss: 0.1606 - acc: 0.9649 - val_loss: 2.7525 - val_acc: 0.6113\n",
      "Epoch 44/50\n",
      "3016/3016 [==============================] - 0s - loss: 0.1640 - acc: 0.9605 - val_loss: 2.7406 - val_acc: 0.6083\n",
      "Epoch 45/50\n",
      "3016/3016 [==============================] - 0s - loss: 0.1496 - acc: 0.9622 - val_loss: 2.7964 - val_acc: 0.6064\n",
      "Epoch 46/50\n",
      "3016/3016 [==============================] - 0s - loss: 0.1458 - acc: 0.9665 - val_loss: 2.7784 - val_acc: 0.6223\n",
      "Epoch 47/50\n",
      "3016/3016 [==============================] - 0s - loss: 0.1528 - acc: 0.9572 - val_loss: 2.8039 - val_acc: 0.6103\n",
      "Epoch 48/50\n",
      "3016/3016 [==============================] - 0s - loss: 0.1382 - acc: 0.9649 - val_loss: 2.8283 - val_acc: 0.6034\n",
      "Epoch 49/50\n",
      "3016/3016 [==============================] - 0s - loss: 0.1342 - acc: 0.9652 - val_loss: 2.8335 - val_acc: 0.6093\n",
      "Epoch 50/50\n",
      "3016/3016 [==============================] - 0s - loss: 0.1206 - acc: 0.9695 - val_loss: 2.8775 - val_acc: 0.6074\n"
     ]
    },
    {
     "data": {
      "text/plain": [
       "<keras.callbacks.History at 0x7fe9415f85c0>"
      ]
     },
     "execution_count": 7,
     "metadata": {},
     "output_type": "execute_result"
    }
   ],
   "source": [
    "model = get_garbage_model()\n",
    "model.compile(optimizer='adam',\n",
    "              loss='categorical_crossentropy',\n",
    "              metrics=['accuracy'])\n",
    "model.fit(train_x ,train_y, epochs=50, validation_data=(valid_x, valid_y))\n"
   ]
  },
  {
   "cell_type": "code",
   "execution_count": null,
   "metadata": {
    "collapsed": true
   },
   "outputs": [],
   "source": []
  }
 ],
 "metadata": {
  "kernelspec": {
   "display_name": "Python 3",
   "language": "python",
   "name": "python3"
  },
  "language_info": {
   "codemirror_mode": {
    "name": "ipython",
    "version": 3
   },
   "file_extension": ".py",
   "mimetype": "text/x-python",
   "name": "python",
   "nbconvert_exporter": "python",
   "pygments_lexer": "ipython3",
   "version": "3.5.2"
  }
 },
 "nbformat": 4,
 "nbformat_minor": 1
}
