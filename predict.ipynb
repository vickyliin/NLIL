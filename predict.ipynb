{
 "cells": [
  {
   "cell_type": "code",
   "execution_count": 24,
   "metadata": {},
   "outputs": [],
   "source": [
    "import pickle\n",
    "import yaml\n",
    "\n",
    "from keras.models import load_model\n",
    "import numpy as np\n",
    "\n",
    "import model"
   ]
  },
  {
   "cell_type": "code",
   "execution_count": 13,
   "metadata": {
    "collapsed": true
   },
   "outputs": [],
   "source": [
    "with open('data/dataset.p', 'rb') as f:\n",
    "    dataset = pickle.load(f)"
   ]
  },
  {
   "cell_type": "code",
   "execution_count": 25,
   "metadata": {
    "collapsed": true
   },
   "outputs": [],
   "source": [
    "with open('model/henryp.init.yaml', 'r') as f:\n",
    "    init = yaml.load(f)"
   ]
  },
  {
   "cell_type": "code",
   "execution_count": 34,
   "metadata": {},
   "outputs": [],
   "source": [
    "henryp = model.CNN(**init)\n",
    "henryp.featurize = lambda dataset: np.stack(dataset.feature.lsa)\n",
    "henryp.load_weights('model/henryp.weight.h5')"
   ]
  },
  {
   "cell_type": "code",
   "execution_count": 35,
   "metadata": {},
   "outputs": [
    {
     "name": "stdout",
     "output_type": "stream",
     "text": [
      "4022/4022 [==============================] - 1s     \n"
     ]
    },
    {
     "data": {
      "text/plain": [
       "[0.79766291024256919, 0.87120835428982457]"
      ]
     },
     "execution_count": 35,
     "metadata": {},
     "output_type": "execute_result"
    }
   ],
   "source": [
    "henryp.compile(optimizer='RMSprop', loss='categorical_crossentropy', metrics=['acc'])\n",
    "henryp.evaluate(dataset)"
   ]
  },
  {
   "cell_type": "code",
   "execution_count": 36,
   "metadata": {},
   "outputs": [
    {
     "data": {
      "text/plain": [
       "['loss', 'acc']"
      ]
     },
     "execution_count": 36,
     "metadata": {},
     "output_type": "execute_result"
    }
   ],
   "source": [
    "henryp.metrics_names"
   ]
  },
  {
   "cell_type": "code",
   "execution_count": 29,
   "metadata": {},
   "outputs": [
    {
     "data": {
      "text/plain": [
       "0                 殺人罪\n",
       "1          道路交通管理處罰條例\n",
       "2                 殺人罪\n",
       "3               證券交易法\n",
       "4                 傷害罪\n",
       "5                 住宅法\n",
       "7                 殺人罪\n",
       "8                 殺人罪\n",
       "9               水土保持法\n",
       "10              動物保護法\n",
       "11                殺人罪\n",
       "12              公共危險罪\n",
       "13                殺人罪\n",
       "14           爆竹煙火管理條例\n",
       "15              證券交易法\n",
       "16             妨害性自主罪\n",
       "17             妨害性自主罪\n",
       "18           組織犯罪防制條例\n",
       "20             妨害性自主罪\n",
       "21              妨害風化罪\n",
       "23                殺人罪\n",
       "24                傷害罪\n",
       "25              行政程序法\n",
       "26                賭博罪\n",
       "27                竊盜罪\n",
       "28                 民法\n",
       "29                殺人罪\n",
       "30           組織犯罪防制條例\n",
       "31                森林法\n",
       "33      兒童及少年福利與權益保障法\n",
       "            ...      \n",
       "4624              商標法\n",
       "4625             行政罰法\n",
       "4626           消費者保護法\n",
       "4627        食品安全衛生管理法\n",
       "4628           廢棄物清理法\n",
       "4629        食品安全衛生管理法\n",
       "4630              藥事法\n",
       "4631        食品安全衛生管理法\n",
       "4633        食品安全衛生管理法\n",
       "4634        食品安全衛生管理法\n",
       "4635              侵占罪\n",
       "4636              殺人罪\n",
       "4637            妨害自由罪\n",
       "4638              殺人罪\n",
       "4640              賭博罪\n",
       "4641              銀行法\n",
       "4642            公共危險罪\n",
       "4643              銀行法\n",
       "4644              銀行法\n",
       "4645              銀行法\n",
       "4646              銀行法\n",
       "4647              銀行法\n",
       "4648           廢棄物清理法\n",
       "4649            老人福利法\n",
       "4650          國家機密保護法\n",
       "4651              殺人罪\n",
       "4653              殺人罪\n",
       "4654             著作權法\n",
       "4655           妨害性自主罪\n",
       "4657          健康食品管理法\n",
       "Name: Law, dtype: object"
      ]
     },
     "execution_count": 29,
     "metadata": {},
     "output_type": "execute_result"
    }
   ],
   "source": [
    "henryp.predict_class(dataset)"
   ]
  }
 ],
 "metadata": {
  "kernelspec": {
   "display_name": "Python 3",
   "language": "python",
   "name": "python3"
  },
  "language_info": {
   "codemirror_mode": {
    "name": "ipython",
    "version": 3
   },
   "file_extension": ".py",
   "mimetype": "text/x-python",
   "name": "python",
   "nbconvert_exporter": "python",
   "pygments_lexer": "ipython3",
   "version": "3.4.2"
  }
 },
 "nbformat": 4,
 "nbformat_minor": 2
}
