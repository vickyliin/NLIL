{
 "cells": [
  {
   "cell_type": "code",
   "execution_count": 170,
   "metadata": {
    "collapsed": true
   },
   "outputs": [],
   "source": [
    "import pandas as pd\n",
    "import word2vec\n",
    "import matplotlib\n",
    "import keras.optimizers as optim\n",
    "from sklearn.model_selection import train_test_split\n",
    "%matplotlib inline"
   ]
  },
  {
   "cell_type": "markdown",
   "metadata": {},
   "source": [
    "# Make Dataset"
   ]
  },
  {
   "cell_type": "code",
   "execution_count": 154,
   "metadata": {},
   "outputs": [],
   "source": [
    "selected_frames = pd.read_json('data/selected_frames.json')\n",
    "selected_frames = selected_frames[selected_frames.law.str.len() == 1]\n",
    "selected_frames.loc[selected_frames.pos_title == '', 'pos_title'] = float('nan')\n",
    "selected_frames.columns = pd.MultiIndex.from_product([['raw'], selected_frames.columns])"
   ]
  },
  {
   "cell_type": "code",
   "execution_count": 155,
   "metadata": {},
   "outputs": [
    {
     "data": {
      "text/html": [
       "<div>\n",
       "<table border=\"1\" class=\"dataframe\">\n",
       "  <thead>\n",
       "    <tr style=\"text-align: right;\">\n",
       "      <th></th>\n",
       "      <th>Arg1</th>\n",
       "      <th>Arg2</th>\n",
       "      <th>Relation</th>\n",
       "    </tr>\n",
       "  </thead>\n",
       "  <tbody>\n",
       "    <tr>\n",
       "      <th>0</th>\n",
       "      <td>NaN</td>\n",
       "      <td>(七, 年前, ，, 年, 僅, 九, 歲, 及, 八, 歲, 的, 板橋市, 某, 國小,...</td>\n",
       "      <td>殺人罪</td>\n",
       "    </tr>\n",
       "    <tr>\n",
       "      <th>1</th>\n",
       "      <td>(0, ‧, 3, 坪, 喊價, 800萬, 畸零地, 圍籬, 阻, 路, 拆, ！)</td>\n",
       "      <td>(○, ．, 三, 坪, 畸零地, 能, 「, 螞蟻, 吃, 大象, 」, ？, 北市, 議...</td>\n",
       "      <td>道路交通管理處罰條例</td>\n",
       "    </tr>\n",
       "    <tr>\n",
       "      <th>2</th>\n",
       "      <td>(100, cc, 催芽劑奪, 信義, 鄉四, 命)</td>\n",
       "      <td>(信義, 鄉民, 朱明福, ，, 涉嫌, 將, 催芽劑, 摻入, 米酒, ，, 導致, 前,...</td>\n",
       "      <td>殺人罪</td>\n",
       "    </tr>\n",
       "    <tr>\n",
       "      <th>3</th>\n",
       "      <td>(101, 前董座, 林鴻明, 二審, 輕, 判, 1年, 8月)</td>\n",
       "      <td>(前, 台北, 101, 董事長, 林鴻明, ，, 被, 控, 掏空, 股票, 上市, 的,...</td>\n",
       "      <td>證券交易法</td>\n",
       "    </tr>\n",
       "    <tr>\n",
       "      <th>4</th>\n",
       "      <td>(101, 大樓, 前添, 紛爭, 台獨, 大, 旗, 砸傷, 人)</td>\n",
       "      <td>(台北, 101, 大樓, 前, 法輪, 功, 、, 愛國, 同心, 會, 的, 爭端, ，...</td>\n",
       "      <td>傷害罪</td>\n",
       "    </tr>\n",
       "  </tbody>\n",
       "</table>\n",
       "</div>"
      ],
      "text/plain": [
       "                                          Arg1  \\\n",
       "0                                          NaN   \n",
       "1  (0, ‧, 3, 坪, 喊價, 800萬, 畸零地, 圍籬, 阻, 路, 拆, ！)   \n",
       "2                   (100, cc, 催芽劑奪, 信義, 鄉四, 命)   \n",
       "3            (101, 前董座, 林鴻明, 二審, 輕, 判, 1年, 8月)   \n",
       "4           (101, 大樓, 前添, 紛爭, 台獨, 大, 旗, 砸傷, 人)   \n",
       "\n",
       "                                                Arg2    Relation  \n",
       "0  (七, 年前, ，, 年, 僅, 九, 歲, 及, 八, 歲, 的, 板橋市, 某, 國小,...         殺人罪  \n",
       "1  (○, ．, 三, 坪, 畸零地, 能, 「, 螞蟻, 吃, 大象, 」, ？, 北市, 議...  道路交通管理處罰條例  \n",
       "2  (信義, 鄉民, 朱明福, ，, 涉嫌, 將, 催芽劑, 摻入, 米酒, ，, 導致, 前,...         殺人罪  \n",
       "3  (前, 台北, 101, 董事長, 林鴻明, ，, 被, 控, 掏空, 股票, 上市, 的,...       證券交易法  \n",
       "4  (台北, 101, 大樓, 前, 法輪, 功, 、, 愛國, 同心, 會, 的, 爭端, ，...         傷害罪  "
      ]
     },
     "execution_count": 155,
     "metadata": {},
     "output_type": "execute_result"
    }
   ],
   "source": [
    "selected_frames['data', 'Arg1'] = selected_frames.raw.pos_title.map(lambda x: next(zip(*x)), na_action='ignore')\n",
    "selected_frames['data', 'Arg2'] = selected_frames.raw.pos_content.map(lambda x: next(zip(*x)), na_action='ignore')\n",
    "selected_frames['data', 'Relation'] = selected_frames.raw.law.map(lambda x: x[0])\n",
    "selected_frames.data.head()"
   ]
  },
  {
   "cell_type": "code",
   "execution_count": 156,
   "metadata": {},
   "outputs": [
    {
     "data": {
      "text/plain": [
       "count    4022.000000\n",
       "mean      364.675037\n",
       "std       122.998481\n",
       "min        41.000000\n",
       "25%       297.000000\n",
       "50%       366.000000\n",
       "75%       444.000000\n",
       "max       807.000000\n",
       "Name: Content Length, dtype: float64"
      ]
     },
     "execution_count": 156,
     "metadata": {},
     "output_type": "execute_result"
    }
   ],
   "source": [
    "selected_frames.data.Arg2.str.len().rename('Content Length').describe()"
   ]
  },
  {
   "cell_type": "code",
   "execution_count": 171,
   "metadata": {
    "collapsed": true
   },
   "outputs": [],
   "source": [
    "dataset = selected_frames.fillna('').sample(frac=1, random_state=42)\n",
    "trainset, validset = train_test_split(dataset, test_size=0.25, random_state=42)"
   ]
  },
  {
   "cell_type": "code",
   "execution_count": 173,
   "metadata": {},
   "outputs": [
    {
     "name": "stdout",
     "output_type": "stream",
     "text": [
      "# Train set           3016\n",
      "# Valid set           1006\n",
      "# Law in Train         274\n"
     ]
    }
   ],
   "source": [
    "relation = dataset.data.Relation.unique()\n",
    "print('# Train set'.ljust(20), '%5d'%len(trainset))\n",
    "print('# Valid set'.ljust(20), '%5d'%len(validset))\n",
    "print('# Law in Train'.ljust(20), '%5d'%len(relation))"
   ]
  },
  {
   "cell_type": "markdown",
   "metadata": {},
   "source": [
    "# Word2Vec"
   ]
  },
  {
   "cell_type": "code",
   "execution_count": 78,
   "metadata": {},
   "outputs": [],
   "source": [
    "corpus = selected_frames.data.Arg1.map(' '.join, na_action='ignore')\n",
    "corpus.dropna().to_csv('data/corpus.txt', index=None)\n",
    "corpus = selected_frames.data.Arg2.map(' '.join, na_action='ignore')\n",
    "corpus.dropna().to_csv('data/corpus.txt', index=None, mode='a')"
   ]
  },
  {
   "cell_type": "code",
   "execution_count": 52,
   "metadata": {},
   "outputs": [],
   "source": [
    "f_wordvec = 'data/wordvec.txt'"
   ]
  },
  {
   "cell_type": "code",
   "execution_count": 56,
   "metadata": {
    "collapsed": true
   },
   "outputs": [],
   "source": [
    "word2vec.word2vec('data/corpus.txt', f_wordvec, binary=0)\n",
    "wordvec = word2vec.load(f_wordvec)\n",
    "unk = wordvec.vectors.mean(0)\n",
    "with open(f_wordvec, 'r+') as f:\n",
    "    f.read()\n",
    "    print('<unk>', *('%.6f'%x for x in unk), file=f)\n",
    "    f.seek(0)\n",
    "    vocab_size = next(int(n) for n in f.readline().split())\n",
    "    vocab_size += 1\n",
    "    f.seek(0)\n",
    "    print(vocab_size, file=f, end='')"
   ]
  },
  {
   "cell_type": "markdown",
   "metadata": {},
   "source": [
    "# Train"
   ]
  },
  {
   "cell_type": "code",
   "execution_count": 161,
   "metadata": {},
   "outputs": [],
   "source": [
    "import model"
   ]
  },
  {
   "cell_type": "code",
   "execution_count": 174,
   "metadata": {},
   "outputs": [],
   "source": [
    "classifier = model.CNN(maxlen=450, torel=relation)"
   ]
  },
  {
   "cell_type": "code",
   "execution_count": 175,
   "metadata": {
    "scrolled": false
   },
   "outputs": [
    {
     "name": "stdout",
     "output_type": "stream",
     "text": [
      "Train on 3016 samples, validate on 1006 samples\n",
      "Epoch 1/50\n",
      "3016/3016 [==============================] - 1s - loss: 4.5035 - acc: 0.1446 - val_loss: 4.7318 - val_acc: 0.1521\n",
      "Epoch 2/50\n",
      "3016/3016 [==============================] - 1s - loss: 4.1130 - acc: 0.1548 - val_loss: 4.5243 - val_acc: 0.1918\n",
      "Epoch 3/50\n",
      "3016/3016 [==============================] - 1s - loss: 3.8759 - acc: 0.1979 - val_loss: 4.3288 - val_acc: 0.2416\n",
      "Epoch 4/50\n",
      "3016/3016 [==============================] - 1s - loss: 3.6046 - acc: 0.2626 - val_loss: 4.0536 - val_acc: 0.2893\n",
      "Epoch 5/50\n",
      "3016/3016 [==============================] - 1s - loss: 3.3801 - acc: 0.2997 - val_loss: 3.8179 - val_acc: 0.3111\n",
      "Epoch 6/50\n",
      "3016/3016 [==============================] - 1s - loss: 3.1906 - acc: 0.3339 - val_loss: 3.6673 - val_acc: 0.3648\n",
      "Epoch 7/50\n",
      "3016/3016 [==============================] - 1s - loss: 3.0190 - acc: 0.3733 - val_loss: 3.4776 - val_acc: 0.3976\n",
      "Epoch 8/50\n",
      "3016/3016 [==============================] - 1s - loss: 2.8326 - acc: 0.4145 - val_loss: 3.3266 - val_acc: 0.4364\n",
      "Epoch 9/50\n",
      "3016/3016 [==============================] - 1s - loss: 2.6596 - acc: 0.4486 - val_loss: 3.1799 - val_acc: 0.4583\n",
      "Epoch 10/50\n",
      "3016/3016 [==============================] - 1s - loss: 2.4870 - acc: 0.4751 - val_loss: 3.0585 - val_acc: 0.4751\n",
      "Epoch 11/50\n",
      "3016/3016 [==============================] - 1s - loss: 2.3204 - acc: 0.5050 - val_loss: 2.9499 - val_acc: 0.5000\n",
      "Epoch 12/50\n",
      "3016/3016 [==============================] - 1s - loss: 2.1748 - acc: 0.5345 - val_loss: 2.8411 - val_acc: 0.5119\n",
      "Epoch 13/50\n",
      "3016/3016 [==============================] - 1s - loss: 2.0224 - acc: 0.5567 - val_loss: 2.7335 - val_acc: 0.5288\n",
      "Epoch 14/50\n",
      "3016/3016 [==============================] - 1s - loss: 1.8930 - acc: 0.5892 - val_loss: 2.6568 - val_acc: 0.5427\n",
      "Epoch 15/50\n",
      "3016/3016 [==============================] - 1s - loss: 1.7629 - acc: 0.6028 - val_loss: 2.5886 - val_acc: 0.5477\n",
      "Epoch 16/50\n",
      "3016/3016 [==============================] - 1s - loss: 1.6332 - acc: 0.6389 - val_loss: 2.5120 - val_acc: 0.5606\n",
      "Epoch 17/50\n",
      "3016/3016 [==============================] - 1s - loss: 1.5217 - acc: 0.6509 - val_loss: 2.4483 - val_acc: 0.5795\n",
      "Epoch 18/50\n",
      "3016/3016 [==============================] - 1s - loss: 1.4099 - acc: 0.6741 - val_loss: 2.3941 - val_acc: 0.5915\n",
      "Epoch 19/50\n",
      "3016/3016 [==============================] - 1s - loss: 1.2902 - acc: 0.6946 - val_loss: 2.3361 - val_acc: 0.5845\n",
      "Epoch 20/50\n",
      "3016/3016 [==============================] - 1s - loss: 1.1884 - acc: 0.7212 - val_loss: 2.2870 - val_acc: 0.5994\n",
      "Epoch 21/50\n",
      "3016/3016 [==============================] - 1s - loss: 1.0868 - acc: 0.7367 - val_loss: 2.2297 - val_acc: 0.6054\n",
      "Epoch 22/50\n",
      "3016/3016 [==============================] - 1s - loss: 0.9740 - acc: 0.7666 - val_loss: 2.1900 - val_acc: 0.6054\n",
      "Epoch 23/50\n",
      "3016/3016 [==============================] - 1s - loss: 0.8992 - acc: 0.7851 - val_loss: 2.1603 - val_acc: 0.6203\n",
      "Epoch 24/50\n",
      "3016/3016 [==============================] - 1s - loss: 0.8208 - acc: 0.8044 - val_loss: 2.1255 - val_acc: 0.6203\n",
      "Epoch 25/50\n",
      "3016/3016 [==============================] - 1s - loss: 0.7317 - acc: 0.8349 - val_loss: 2.0949 - val_acc: 0.6272\n",
      "Epoch 26/50\n",
      "3016/3016 [==============================] - 1s - loss: 0.6767 - acc: 0.8349 - val_loss: 2.0610 - val_acc: 0.6302\n",
      "Epoch 27/50\n",
      "3016/3016 [==============================] - 1s - loss: 0.5978 - acc: 0.8637 - val_loss: 2.0315 - val_acc: 0.6322\n",
      "Epoch 28/50\n",
      "3016/3016 [==============================] - 1s - loss: 0.5387 - acc: 0.8796 - val_loss: 2.0336 - val_acc: 0.6312\n",
      "Epoch 29/50\n",
      "3016/3016 [==============================] - 1s - loss: 0.4944 - acc: 0.8863 - val_loss: 2.0185 - val_acc: 0.6292\n",
      "Epoch 30/50\n",
      "3016/3016 [==============================] - 1s - loss: 0.4405 - acc: 0.8999 - val_loss: 2.0068 - val_acc: 0.6352\n",
      "Epoch 31/50\n",
      "3016/3016 [==============================] - 1s - loss: 0.3844 - acc: 0.9174 - val_loss: 1.9903 - val_acc: 0.6342\n",
      "Epoch 32/50\n",
      "3016/3016 [==============================] - 1s - loss: 0.3503 - acc: 0.9271 - val_loss: 1.9857 - val_acc: 0.6332\n",
      "Epoch 33/50\n",
      "3016/3016 [==============================] - 1s - loss: 0.3127 - acc: 0.9290 - val_loss: 1.9724 - val_acc: 0.6421\n",
      "Epoch 34/50\n",
      "3016/3016 [==============================] - 1s - loss: 0.2788 - acc: 0.9377 - val_loss: 1.9773 - val_acc: 0.6402\n",
      "Epoch 35/50\n",
      "3016/3016 [==============================] - 1s - loss: 0.2554 - acc: 0.9460 - val_loss: 1.9743 - val_acc: 0.6481\n",
      "Epoch 36/50\n",
      "3016/3016 [==============================] - 1s - loss: 0.2260 - acc: 0.9493 - val_loss: 1.9787 - val_acc: 0.6412\n",
      "Epoch 37/50\n",
      "3016/3016 [==============================] - 1s - loss: 0.1991 - acc: 0.9595 - val_loss: 1.9678 - val_acc: 0.6541\n",
      "Epoch 38/50\n",
      "3016/3016 [==============================] - 1s - loss: 0.1737 - acc: 0.9629 - val_loss: 1.9794 - val_acc: 0.6481\n",
      "Epoch 39/50\n",
      "3016/3016 [==============================] - 1s - loss: 0.1537 - acc: 0.9735 - val_loss: 1.9896 - val_acc: 0.6471\n",
      "Epoch 40/50\n",
      "3016/3016 [==============================] - 1s - loss: 0.1441 - acc: 0.9698 - val_loss: 1.9943 - val_acc: 0.6511\n",
      "Epoch 41/50\n",
      "3016/3016 [==============================] - 1s - loss: 0.1302 - acc: 0.9712 - val_loss: 2.0026 - val_acc: 0.6491\n",
      "Epoch 42/50\n",
      "3016/3016 [==============================] - 1s - loss: 0.1089 - acc: 0.9771 - val_loss: 2.0233 - val_acc: 0.6451\n",
      "Epoch 43/50\n",
      "3016/3016 [==============================] - 1s - loss: 0.1036 - acc: 0.9778 - val_loss: 1.9947 - val_acc: 0.6561\n",
      "Epoch 44/50\n",
      "3016/3016 [==============================] - 1s - loss: 0.1017 - acc: 0.9765 - val_loss: 2.0367 - val_acc: 0.6471\n",
      "Epoch 45/50\n",
      "3016/3016 [==============================] - 1s - loss: 0.0865 - acc: 0.9831 - val_loss: 2.0245 - val_acc: 0.6481\n",
      "Epoch 46/50\n",
      "3016/3016 [==============================] - 1s - loss: 0.0699 - acc: 0.9874 - val_loss: 2.0130 - val_acc: 0.6511\n",
      "Epoch 47/50\n",
      "3016/3016 [==============================] - 1s - loss: 0.0635 - acc: 0.9861 - val_loss: 2.0586 - val_acc: 0.6471\n",
      "Epoch 48/50\n",
      "3016/3016 [==============================] - 1s - loss: 0.0634 - acc: 0.9871 - val_loss: 2.0563 - val_acc: 0.6531\n",
      "Epoch 49/50\n",
      "3016/3016 [==============================] - 1s - loss: 0.0504 - acc: 0.9914 - val_loss: 2.0533 - val_acc: 0.6451\n",
      "Epoch 50/50\n",
      "3016/3016 [==============================] - 1s - loss: 0.0516 - acc: 0.9891 - val_loss: 2.0646 - val_acc: 0.6421\n"
     ]
    }
   ],
   "source": [
    "# opt = optim.RMSprop(lr=1.2e-3)\n",
    "classifier.compile(loss='categorical_crossentropy',\n",
    "                   optimizer='RMSprop',\n",
    "                   metrics=['acc'])\n",
    "classifier.reset()\n",
    "hist = classifier.fit(trainset, validset, epochs=50, batch_size=128)"
   ]
  },
  {
   "cell_type": "code",
   "execution_count": 176,
   "metadata": {},
   "outputs": [
    {
     "data": {
      "text/plain": [
       "<matplotlib.axes._subplots.AxesSubplot at 0x7f5b3e5222b0>"
      ]
     },
     "execution_count": 176,
     "metadata": {},
     "output_type": "execute_result"
    },
    {
     "data": {
      "image/png": "[encoded data removed]",
      "text/plain": [
       "<matplotlib.figure.Figure at 0x7f5bdd9894a8>"
      ]
     },
     "metadata": {},
     "output_type": "display_data"
    }
   ],
   "source": [
    "pd.DataFrame(hist.history).plot()"
   ]
  },
  {
   "cell_type": "markdown",
   "metadata": {},
   "source": [
    "## Residue"
   ]
  },
  {
   "cell_type": "code",
   "execution_count": 194,
   "metadata": {},
   "outputs": [],
   "source": [
    "res = model.CNN(maxlen=450, torel=relation, residue=True)"
   ]
  },
  {
   "cell_type": "code",
   "execution_count": 197,
   "metadata": {},
   "outputs": [
    {
     "name": "stdout",
     "output_type": "stream",
     "text": [
      "Train on 3016 samples, validate on 1006 samples\n",
      "Epoch 1/50\n",
      "3016/3016 [==============================] - 2s - loss: 4.4595 - acc: 0.1353 - val_loss: 4.5174 - val_acc: 0.1521\n",
      "Epoch 2/50\n",
      "3016/3016 [==============================] - 1s - loss: 4.1736 - acc: 0.1515 - val_loss: 4.3856 - val_acc: 0.2028\n",
      "Epoch 3/50\n",
      "3016/3016 [==============================] - 1s - loss: 3.9890 - acc: 0.1850 - val_loss: 4.0844 - val_acc: 0.2634\n",
      "Epoch 4/50\n",
      "3016/3016 [==============================] - 1s - loss: 3.7353 - acc: 0.2520 - val_loss: 3.7746 - val_acc: 0.2982\n",
      "Epoch 5/50\n",
      "3016/3016 [==============================] - 1s - loss: 3.5094 - acc: 0.2984 - val_loss: 3.5569 - val_acc: 0.3250\n",
      "Epoch 6/50\n",
      "3016/3016 [==============================] - 1s - loss: 3.2997 - acc: 0.3501 - val_loss: 3.3602 - val_acc: 0.3638\n",
      "Epoch 7/50\n",
      "3016/3016 [==============================] - 1s - loss: 3.0910 - acc: 0.3859 - val_loss: 3.1916 - val_acc: 0.3996\n",
      "Epoch 8/50\n",
      "3016/3016 [==============================] - 1s - loss: 2.8882 - acc: 0.4360 - val_loss: 3.0109 - val_acc: 0.4423\n",
      "Epoch 9/50\n",
      "3016/3016 [==============================] - 1s - loss: 2.6750 - acc: 0.4847 - val_loss: 2.8432 - val_acc: 0.4831\n",
      "Epoch 10/50\n",
      "3016/3016 [==============================] - 1s - loss: 2.4834 - acc: 0.5109 - val_loss: 2.7097 - val_acc: 0.5179\n",
      "Epoch 11/50\n",
      "3016/3016 [==============================] - 1s - loss: 2.2985 - acc: 0.5381 - val_loss: 2.5831 - val_acc: 0.5368\n",
      "Epoch 12/50\n",
      "3016/3016 [==============================] - 1s - loss: 2.1308 - acc: 0.5643 - val_loss: 2.4665 - val_acc: 0.5676\n",
      "Epoch 13/50\n",
      "3016/3016 [==============================] - 1s - loss: 1.9577 - acc: 0.6015 - val_loss: 2.3614 - val_acc: 0.5835\n",
      "Epoch 14/50\n",
      "3016/3016 [==============================] - 1s - loss: 1.8099 - acc: 0.6227 - val_loss: 2.2684 - val_acc: 0.6083\n",
      "Epoch 15/50\n",
      "3016/3016 [==============================] - 1s - loss: 1.6561 - acc: 0.6585 - val_loss: 2.1811 - val_acc: 0.6173\n",
      "Epoch 16/50\n",
      "3016/3016 [==============================] - 1s - loss: 1.5308 - acc: 0.6684 - val_loss: 2.1080 - val_acc: 0.6332\n",
      "Epoch 17/50\n",
      "3016/3016 [==============================] - 1s - loss: 1.3803 - acc: 0.7092 - val_loss: 2.0474 - val_acc: 0.6412\n",
      "Epoch 18/50\n",
      "3016/3016 [==============================] - 1s - loss: 1.2536 - acc: 0.7271 - val_loss: 1.9683 - val_acc: 0.6511\n",
      "Epoch 19/50\n",
      "3016/3016 [==============================] - 1s - loss: 1.1407 - acc: 0.7540 - val_loss: 1.9322 - val_acc: 0.6620\n",
      "Epoch 20/50\n",
      "3016/3016 [==============================] - 1s - loss: 1.0153 - acc: 0.7759 - val_loss: 1.8622 - val_acc: 0.6700\n",
      "Epoch 21/50\n",
      "3016/3016 [==============================] - 1s - loss: 0.9193 - acc: 0.7908 - val_loss: 1.8181 - val_acc: 0.6759\n",
      "Epoch 22/50\n",
      "3016/3016 [==============================] - 1s - loss: 0.8263 - acc: 0.8203 - val_loss: 1.8074 - val_acc: 0.6859\n",
      "Epoch 23/50\n",
      "3016/3016 [==============================] - 1s - loss: 0.7206 - acc: 0.8382 - val_loss: 1.7581 - val_acc: 0.6958\n",
      "Epoch 24/50\n",
      "3016/3016 [==============================] - 1s - loss: 0.6352 - acc: 0.8601 - val_loss: 1.7585 - val_acc: 0.6819\n",
      "Epoch 25/50\n",
      "3016/3016 [==============================] - 1s - loss: 0.5510 - acc: 0.8853 - val_loss: 1.7279 - val_acc: 0.6879\n",
      "Epoch 26/50\n",
      "3016/3016 [==============================] - 1s - loss: 0.4760 - acc: 0.9098 - val_loss: 1.7461 - val_acc: 0.6899\n",
      "Epoch 27/50\n",
      "3016/3016 [==============================] - 1s - loss: 0.4101 - acc: 0.9221 - val_loss: 1.7115 - val_acc: 0.6958\n",
      "Epoch 28/50\n",
      "3016/3016 [==============================] - 1s - loss: 0.3431 - acc: 0.9416 - val_loss: 1.6995 - val_acc: 0.6948\n",
      "Epoch 29/50\n",
      "3016/3016 [==============================] - 1s - loss: 0.3000 - acc: 0.9443 - val_loss: 1.7053 - val_acc: 0.6988\n",
      "Epoch 30/50\n",
      "3016/3016 [==============================] - 1s - loss: 0.2571 - acc: 0.9572 - val_loss: 1.6886 - val_acc: 0.6978\n",
      "Epoch 31/50\n",
      "3016/3016 [==============================] - 1s - loss: 0.2114 - acc: 0.9708 - val_loss: 1.6745 - val_acc: 0.7028\n",
      "Epoch 32/50\n",
      "3016/3016 [==============================] - 1s - loss: 0.1828 - acc: 0.9688 - val_loss: 1.6994 - val_acc: 0.7008\n",
      "Epoch 33/50\n",
      "3016/3016 [==============================] - 1s - loss: 0.1632 - acc: 0.9692 - val_loss: 1.7117 - val_acc: 0.6968\n",
      "Epoch 34/50\n",
      "3016/3016 [==============================] - 1s - loss: 0.1351 - acc: 0.9731 - val_loss: 1.7088 - val_acc: 0.6958\n",
      "Epoch 35/50\n",
      "3016/3016 [==============================] - 1s - loss: 0.1091 - acc: 0.9818 - val_loss: 1.7226 - val_acc: 0.7097\n",
      "Epoch 36/50\n",
      "3016/3016 [==============================] - 1s - loss: 0.0971 - acc: 0.9818 - val_loss: 1.7341 - val_acc: 0.7087\n",
      "Epoch 37/50\n",
      "3016/3016 [==============================] - 1s - loss: 0.0764 - acc: 0.9894 - val_loss: 1.7294 - val_acc: 0.7038\n",
      "Epoch 38/50\n",
      "3016/3016 [==============================] - 1s - loss: 0.0764 - acc: 0.9867 - val_loss: 1.7506 - val_acc: 0.7018\n",
      "Epoch 39/50\n",
      "3016/3016 [==============================] - 1s - loss: 0.0542 - acc: 0.9924 - val_loss: 1.7584 - val_acc: 0.7167\n",
      "Epoch 40/50\n",
      "3016/3016 [==============================] - 1s - loss: 0.0500 - acc: 0.9920 - val_loss: 1.7687 - val_acc: 0.7068\n",
      "Epoch 41/50\n",
      "3016/3016 [==============================] - 1s - loss: 0.0460 - acc: 0.9930 - val_loss: 1.7835 - val_acc: 0.7137\n",
      "Epoch 42/50\n",
      "3016/3016 [==============================] - 1s - loss: 0.0400 - acc: 0.9924 - val_loss: 1.7871 - val_acc: 0.7048\n",
      "Epoch 43/50\n",
      "3016/3016 [==============================] - 1s - loss: 0.0395 - acc: 0.9924 - val_loss: 1.7860 - val_acc: 0.7087\n",
      "Epoch 44/50\n",
      "3016/3016 [==============================] - 1s - loss: 0.0272 - acc: 0.9957 - val_loss: 1.8060 - val_acc: 0.7177\n",
      "Epoch 45/50\n",
      "3016/3016 [==============================] - 1s - loss: 0.0235 - acc: 0.9970 - val_loss: 1.8205 - val_acc: 0.7167\n",
      "Epoch 46/50\n",
      "3016/3016 [==============================] - 1s - loss: 0.0210 - acc: 0.9967 - val_loss: 1.8468 - val_acc: 0.7117\n",
      "Epoch 47/50\n",
      "3016/3016 [==============================] - 1s - loss: 0.0173 - acc: 0.9983 - val_loss: 1.8292 - val_acc: 0.7187\n",
      "Epoch 48/50\n",
      "3016/3016 [==============================] - 1s - loss: 0.0191 - acc: 0.9964 - val_loss: 1.8504 - val_acc: 0.7187\n",
      "Epoch 49/50\n",
      "3016/3016 [==============================] - 1s - loss: 0.0156 - acc: 0.9973 - val_loss: 1.8622 - val_acc: 0.7187\n",
      "Epoch 50/50\n",
      "3016/3016 [==============================] - 1s - loss: 0.0110 - acc: 0.9987 - val_loss: 1.8647 - val_acc: 0.7207\n"
     ]
    }
   ],
   "source": [
    "# opt = optim.RMSprop(lr=1.2e-3)\n",
    "res.compile(loss='categorical_crossentropy',\n",
    "            optimizer='RMSprop',\n",
    "            metrics=['acc'])\n",
    "res.reset()\n",
    "hist_res = res.fit(trainset, validset, epochs=50, batch_size=128)"
   ]
  },
  {
   "cell_type": "code",
   "execution_count": 199,
   "metadata": {},
   "outputs": [
    {
     "data": {
      "text/plain": [
       "<matplotlib.axes._subplots.AxesSubplot at 0x7f5b1c078a20>"
      ]
     },
     "execution_count": 199,
     "metadata": {},
     "output_type": "execute_result"
    },
    {
     "data": {
      "image/png": "[encoded data removed]",
      "text/plain": [
       "<matplotlib.figure.Figure at 0x7f5b1c678be0>"
      ]
     },
     "metadata": {},
     "output_type": "display_data"
    }
   ],
   "source": [
    "pd.DataFrame(hist_res.history).plot()"
   ]
  }
 ],
 "metadata": {
  "kernelspec": {
   "display_name": "Python 3",
   "language": "python",
   "name": "python3"
  },
  "language_info": {
   "codemirror_mode": {
    "name": "ipython",
    "version": 3
   },
   "file_extension": ".py",
   "mimetype": "text/x-python",
   "name": "python",
   "nbconvert_exporter": "python",
   "pygments_lexer": "ipython3",
   "version": "3.4.2"
  }
 },
 "nbformat": 4,
 "nbformat_minor": 2
}
