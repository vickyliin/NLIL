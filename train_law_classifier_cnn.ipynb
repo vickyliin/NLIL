{
 "cells": [
  {
   "cell_type": "code",
   "execution_count": 1,
   "metadata": {
    "collapsed": true
   },
   "outputs": [],
   "source": [
    "import pandas as pd"
   ]
  },
  {
   "cell_type": "markdown",
   "metadata": {},
   "source": [
    "# Make Dataset"
   ]
  },
  {
   "cell_type": "code",
   "execution_count": 154,
   "metadata": {},
   "outputs": [],
   "source": [
    "selected_frames = pd.read_json('data/selected_frames.json')\n",
    "selected_frames = selected_frames[selected_frames.law.str.len() == 1]\n",
    "selected_frames.loc[selected_frames.pos_title == '', 'pos_title'] = float('nan')\n",
    "selected_frames.columns = pd.MultiIndex.from_product([['raw'], selected_frames.columns])"
   ]
  },
  {
   "cell_type": "code",
   "execution_count": 155,
   "metadata": {},
   "outputs": [
    {
     "data": {
      "text/html": [
       "<div>\n",
       "<table border=\"1\" class=\"dataframe\">\n",
       "  <thead>\n",
       "    <tr style=\"text-align: right;\">\n",
       "      <th></th>\n",
       "      <th>Arg1</th>\n",
       "      <th>Arg2</th>\n",
       "      <th>Relation</th>\n",
       "    </tr>\n",
       "  </thead>\n",
       "  <tbody>\n",
       "    <tr>\n",
       "      <th>0</th>\n",
       "      <td>NaN</td>\n",
       "      <td>(七, 年前, ，, 年, 僅, 九, 歲, 及, 八, 歲, 的, 板橋市, 某, 國小,...</td>\n",
       "      <td>殺人罪</td>\n",
       "    </tr>\n",
       "    <tr>\n",
       "      <th>1</th>\n",
       "      <td>(0, ‧, 3, 坪, 喊價, 800萬, 畸零地, 圍籬, 阻, 路, 拆, ！)</td>\n",
       "      <td>(○, ．, 三, 坪, 畸零地, 能, 「, 螞蟻, 吃, 大象, 」, ？, 北市, 議...</td>\n",
       "      <td>道路交通管理處罰條例</td>\n",
       "    </tr>\n",
       "    <tr>\n",
       "      <th>2</th>\n",
       "      <td>(100, cc, 催芽劑奪, 信義, 鄉四, 命)</td>\n",
       "      <td>(信義, 鄉民, 朱明福, ，, 涉嫌, 將, 催芽劑, 摻入, 米酒, ，, 導致, 前,...</td>\n",
       "      <td>殺人罪</td>\n",
       "    </tr>\n",
       "    <tr>\n",
       "      <th>3</th>\n",
       "      <td>(101, 前董座, 林鴻明, 二審, 輕, 判, 1年, 8月)</td>\n",
       "      <td>(前, 台北, 101, 董事長, 林鴻明, ，, 被, 控, 掏空, 股票, 上市, 的,...</td>\n",
       "      <td>證券交易法</td>\n",
       "    </tr>\n",
       "    <tr>\n",
       "      <th>4</th>\n",
       "      <td>(101, 大樓, 前添, 紛爭, 台獨, 大, 旗, 砸傷, 人)</td>\n",
       "      <td>(台北, 101, 大樓, 前, 法輪, 功, 、, 愛國, 同心, 會, 的, 爭端, ，...</td>\n",
       "      <td>傷害罪</td>\n",
       "    </tr>\n",
       "  </tbody>\n",
       "</table>\n",
       "</div>"
      ],
      "text/plain": [
       "                                          Arg1  \\\n",
       "0                                          NaN   \n",
       "1  (0, ‧, 3, 坪, 喊價, 800萬, 畸零地, 圍籬, 阻, 路, 拆, ！)   \n",
       "2                   (100, cc, 催芽劑奪, 信義, 鄉四, 命)   \n",
       "3            (101, 前董座, 林鴻明, 二審, 輕, 判, 1年, 8月)   \n",
       "4           (101, 大樓, 前添, 紛爭, 台獨, 大, 旗, 砸傷, 人)   \n",
       "\n",
       "                                                Arg2    Relation  \n",
       "0  (七, 年前, ，, 年, 僅, 九, 歲, 及, 八, 歲, 的, 板橋市, 某, 國小,...         殺人罪  \n",
       "1  (○, ．, 三, 坪, 畸零地, 能, 「, 螞蟻, 吃, 大象, 」, ？, 北市, 議...  道路交通管理處罰條例  \n",
       "2  (信義, 鄉民, 朱明福, ，, 涉嫌, 將, 催芽劑, 摻入, 米酒, ，, 導致, 前,...         殺人罪  \n",
       "3  (前, 台北, 101, 董事長, 林鴻明, ，, 被, 控, 掏空, 股票, 上市, 的,...       證券交易法  \n",
       "4  (台北, 101, 大樓, 前, 法輪, 功, 、, 愛國, 同心, 會, 的, 爭端, ，...         傷害罪  "
      ]
     },
     "execution_count": 155,
     "metadata": {},
     "output_type": "execute_result"
    }
   ],
   "source": [
    "selected_frames['data', 'Arg1'] = selected_frames.raw.pos_title.map(lambda x: next(zip(*x)), na_action='ignore')\n",
    "selected_frames['data', 'Arg2'] = selected_frames.raw.pos_content.map(lambda x: next(zip(*x)), na_action='ignore')\n",
    "selected_frames['data', 'Relation'] = selected_frames.raw.law.map(lambda x: x[0])\n",
    "selected_frames.data.head()"
   ]
  },
  {
   "cell_type": "code",
   "execution_count": 156,
   "metadata": {},
   "outputs": [
    {
     "data": {
      "text/plain": [
       "count    4022.000000\n",
       "mean      364.675037\n",
       "std       122.998481\n",
       "min        41.000000\n",
       "25%       297.000000\n",
       "50%       366.000000\n",
       "75%       444.000000\n",
       "max       807.000000\n",
       "Name: Content Length, dtype: float64"
      ]
     },
     "execution_count": 156,
     "metadata": {},
     "output_type": "execute_result"
    }
   ],
   "source": [
    "selected_frames.data.Arg2.str.len().rename('Content Length').describe()"
   ]
  },
  {
   "cell_type": "code",
   "execution_count": 157,
   "metadata": {
    "collapsed": true
   },
   "outputs": [],
   "source": [
    "dataset = selected_frames.fillna('').sample(frac=1, random_state=42)\n",
    "trainset = dataset[len(dataset)//4:]\n",
    "validset = dataset[:len(dataset)//4]"
   ]
  },
  {
   "cell_type": "code",
   "execution_count": 158,
   "metadata": {},
   "outputs": [
    {
     "name": "stdout",
     "output_type": "stream",
     "text": [
      "# Train set           3017\n",
      "# Valid set           1005\n",
      "# Law in Train         274\n"
     ]
    }
   ],
   "source": [
    "relation = dataset.data.Relation.unique()\n",
    "print('# Train set'.ljust(20), '%5d'%len(trainset))\n",
    "print('# Valid set'.ljust(20), '%5d'%len(validset))\n",
    "print('# Law in Train'.ljust(20), '%5d'%len(relation))"
   ]
  },
  {
   "cell_type": "markdown",
   "metadata": {},
   "source": [
    "# Word2Vec"
   ]
  },
  {
   "cell_type": "code",
   "execution_count": 78,
   "metadata": {},
   "outputs": [],
   "source": [
    "corpus = selected_frames.data.Arg1.map(' '.join, na_action='ignore')\n",
    "corpus.dropna().to_csv('data/corpus.txt', index=None)\n",
    "corpus = selected_frames.data.Arg2.map(' '.join, na_action='ignore')\n",
    "corpus.dropna().to_csv('data/corpus.txt', index=None, mode='a')"
   ]
  },
  {
   "cell_type": "code",
   "execution_count": 52,
   "metadata": {},
   "outputs": [],
   "source": [
    "import word2vec\n",
    "f_wordvec = 'data/wordvec.txt'"
   ]
  },
  {
   "cell_type": "code",
   "execution_count": 56,
   "metadata": {
    "collapsed": true
   },
   "outputs": [],
   "source": [
    "word2vec.word2vec('data/corpus.txt', f_wordvec, binary=0)\n",
    "wordvec = word2vec.load(f_wordvec)\n",
    "unk = wordvec.vectors.mean(0)\n",
    "with open(f_wordvec, 'r+') as f:\n",
    "    f.read()\n",
    "    print('<unk>', *('%.6f'%x for x in unk), file=f)\n",
    "    f.seek(0)\n",
    "    vocab_size = next(int(n) for n in f.readline().split())\n",
    "    vocab_size += 1\n",
    "    f.seek(0)\n",
    "    print(vocab_size, file=f, end='')"
   ]
  },
  {
   "cell_type": "markdown",
   "metadata": {},
   "source": [
    "# Train"
   ]
  },
  {
   "cell_type": "code",
   "execution_count": 161,
   "metadata": {},
   "outputs": [],
   "source": [
    "import model"
   ]
  },
  {
   "cell_type": "code",
   "execution_count": 164,
   "metadata": {},
   "outputs": [],
   "source": [
    "classifier = model.CNN(maxlen=450, torel=relation)"
   ]
  },
  {
   "cell_type": "code",
   "execution_count": 165,
   "metadata": {
    "scrolled": false
   },
   "outputs": [
    {
     "name": "stdout",
     "output_type": "stream",
     "text": [
      "Train on 3017 samples, validate on 1005 samples\n",
      "Epoch 1/50\n",
      "3017/3017 [==============================] - 1s - loss: 4.4867 - acc: 0.1445 - val_loss: 4.7594 - val_acc: 0.1512\n",
      "Epoch 2/50\n",
      "3017/3017 [==============================] - 1s - loss: 4.1238 - acc: 0.1581 - val_loss: 4.5899 - val_acc: 0.1881\n",
      "Epoch 3/50\n",
      "3017/3017 [==============================] - 1s - loss: 3.8872 - acc: 0.2048 - val_loss: 4.3829 - val_acc: 0.2607\n",
      "Epoch 4/50\n",
      "3017/3017 [==============================] - 1s - loss: 3.5890 - acc: 0.2609 - val_loss: 4.0872 - val_acc: 0.2955\n",
      "Epoch 5/50\n",
      "3017/3017 [==============================] - 1s - loss: 3.3550 - acc: 0.3076 - val_loss: 3.8242 - val_acc: 0.3244\n",
      "Epoch 6/50\n",
      "3017/3017 [==============================] - 1s - loss: 3.1505 - acc: 0.3550 - val_loss: 3.6269 - val_acc: 0.3622\n",
      "Epoch 7/50\n",
      "3017/3017 [==============================] - 1s - loss: 2.9681 - acc: 0.3911 - val_loss: 3.4724 - val_acc: 0.4269\n",
      "Epoch 8/50\n",
      "3017/3017 [==============================] - 1s - loss: 2.7851 - acc: 0.4422 - val_loss: 3.3575 - val_acc: 0.4448\n",
      "Epoch 9/50\n",
      "3017/3017 [==============================] - 1s - loss: 2.6053 - acc: 0.4690 - val_loss: 3.2035 - val_acc: 0.4627\n",
      "Epoch 10/50\n",
      "3017/3017 [==============================] - 1s - loss: 2.4324 - acc: 0.5018 - val_loss: 3.1041 - val_acc: 0.4846\n",
      "Epoch 11/50\n",
      "3017/3017 [==============================] - ETA: 0s - loss: 2.2758 - acc: 0.527 - 1s - loss: 2.2800 - acc: 0.5267 - val_loss: 2.9912 - val_acc: 0.5065\n",
      "Epoch 12/50\n",
      "3017/3017 [==============================] - 1s - loss: 2.1318 - acc: 0.5509 - val_loss: 2.8872 - val_acc: 0.5174\n",
      "Epoch 13/50\n",
      "3017/3017 [==============================] - 1s - loss: 1.9773 - acc: 0.5791 - val_loss: 2.7728 - val_acc: 0.5413\n",
      "Epoch 14/50\n",
      "3017/3017 [==============================] - 1s - loss: 1.8520 - acc: 0.6029 - val_loss: 2.6988 - val_acc: 0.5542\n",
      "Epoch 15/50\n",
      "3017/3017 [==============================] - 1s - loss: 1.7264 - acc: 0.6255 - val_loss: 2.6231 - val_acc: 0.5652\n",
      "Epoch 16/50\n",
      "3017/3017 [==============================] - 1s - loss: 1.6127 - acc: 0.6497 - val_loss: 2.5477 - val_acc: 0.5811\n",
      "Epoch 17/50\n",
      "3017/3017 [==============================] - 1s - loss: 1.4871 - acc: 0.6752 - val_loss: 2.4834 - val_acc: 0.5900\n",
      "Epoch 18/50\n",
      "3017/3017 [==============================] - 1s - loss: 1.3806 - acc: 0.6911 - val_loss: 2.4324 - val_acc: 0.6010\n",
      "Epoch 19/50\n",
      "3017/3017 [==============================] - 1s - loss: 1.2615 - acc: 0.7183 - val_loss: 2.3746 - val_acc: 0.6100\n",
      "Epoch 20/50\n",
      "3017/3017 [==============================] - 1s - loss: 1.1762 - acc: 0.7249 - val_loss: 2.3428 - val_acc: 0.6219\n",
      "Epoch 21/50\n",
      "3017/3017 [==============================] - 1s - loss: 1.0804 - acc: 0.7474 - val_loss: 2.2946 - val_acc: 0.6209\n",
      "Epoch 22/50\n",
      "3017/3017 [==============================] - 1s - loss: 0.9850 - acc: 0.7716 - val_loss: 2.2615 - val_acc: 0.6338\n",
      "Epoch 23/50\n",
      "3017/3017 [==============================] - 1s - loss: 0.9095 - acc: 0.7958 - val_loss: 2.2467 - val_acc: 0.6289\n",
      "Epoch 24/50\n",
      "3017/3017 [==============================] - 1s - loss: 0.8259 - acc: 0.8131 - val_loss: 2.2153 - val_acc: 0.6358\n",
      "Epoch 25/50\n",
      "3017/3017 [==============================] - 1s - loss: 0.7421 - acc: 0.8233 - val_loss: 2.1975 - val_acc: 0.6368\n",
      "Epoch 26/50\n",
      "3017/3017 [==============================] - 1s - loss: 0.6844 - acc: 0.8475 - val_loss: 2.1948 - val_acc: 0.6328\n",
      "Epoch 27/50\n",
      "3017/3017 [==============================] - 1s - loss: 0.6294 - acc: 0.8588 - val_loss: 2.1985 - val_acc: 0.6368\n",
      "Epoch 28/50\n",
      "3017/3017 [==============================] - 1s - loss: 0.5726 - acc: 0.8681 - val_loss: 2.1730 - val_acc: 0.6448\n",
      "Epoch 29/50\n",
      "3017/3017 [==============================] - 1s - loss: 0.5249 - acc: 0.8794 - val_loss: 2.1698 - val_acc: 0.6388\n",
      "Epoch 30/50\n",
      "3017/3017 [==============================] - 1s - loss: 0.4653 - acc: 0.8972 - val_loss: 2.1683 - val_acc: 0.6378\n",
      "Epoch 31/50\n",
      "3017/3017 [==============================] - 1s - loss: 0.4313 - acc: 0.9092 - val_loss: 2.1683 - val_acc: 0.6458\n",
      "Epoch 32/50\n",
      "3017/3017 [==============================] - 1s - loss: 0.3890 - acc: 0.9112 - val_loss: 2.1445 - val_acc: 0.6567\n",
      "Epoch 33/50\n",
      "3017/3017 [==============================] - 1s - loss: 0.3442 - acc: 0.9281 - val_loss: 2.1744 - val_acc: 0.6358\n",
      "Epoch 34/50\n",
      "3017/3017 [==============================] - 1s - loss: 0.3052 - acc: 0.9357 - val_loss: 2.1773 - val_acc: 0.6338\n",
      "Epoch 35/50\n",
      "3017/3017 [==============================] - 1s - loss: 0.2838 - acc: 0.9420 - val_loss: 2.1473 - val_acc: 0.6547\n",
      "Epoch 36/50\n",
      "3017/3017 [==============================] - 1s - loss: 0.2573 - acc: 0.9433 - val_loss: 2.1676 - val_acc: 0.6468\n",
      "Epoch 37/50\n",
      "3017/3017 [==============================] - 1s - loss: 0.2219 - acc: 0.9543 - val_loss: 2.1627 - val_acc: 0.6557\n",
      "Epoch 38/50\n",
      "3017/3017 [==============================] - 1s - loss: 0.1970 - acc: 0.9586 - val_loss: 2.1644 - val_acc: 0.6567\n",
      "Epoch 39/50\n",
      "3017/3017 [==============================] - 1s - loss: 0.1793 - acc: 0.9669 - val_loss: 2.1805 - val_acc: 0.6567\n",
      "Epoch 40/50\n",
      "3017/3017 [==============================] - 1s - loss: 0.1597 - acc: 0.9682 - val_loss: 2.1886 - val_acc: 0.6507\n",
      "Epoch 41/50\n",
      "3017/3017 [==============================] - 1s - loss: 0.1433 - acc: 0.9685 - val_loss: 2.2117 - val_acc: 0.6468\n",
      "Epoch 42/50\n",
      "3017/3017 [==============================] - 1s - loss: 0.1277 - acc: 0.9761 - val_loss: 2.2304 - val_acc: 0.6468\n",
      "Epoch 43/50\n",
      "3017/3017 [==============================] - 1s - loss: 0.1194 - acc: 0.9785 - val_loss: 2.2333 - val_acc: 0.6478\n",
      "Epoch 44/50\n",
      "3017/3017 [==============================] - 1s - loss: 0.1113 - acc: 0.9781 - val_loss: 2.2255 - val_acc: 0.6438\n",
      "Epoch 45/50\n",
      "3017/3017 [==============================] - 1s - loss: 0.0920 - acc: 0.9851 - val_loss: 2.2318 - val_acc: 0.6577\n",
      "Epoch 46/50\n",
      "3017/3017 [==============================] - 1s - loss: 0.0864 - acc: 0.9851 - val_loss: 2.2527 - val_acc: 0.6438\n",
      "Epoch 47/50\n",
      "3017/3017 [==============================] - 1s - loss: 0.0809 - acc: 0.9821 - val_loss: 2.2700 - val_acc: 0.6507\n",
      "Epoch 48/50\n",
      "3017/3017 [==============================] - 1s - loss: 0.0740 - acc: 0.9854 - val_loss: 2.2624 - val_acc: 0.6557\n",
      "Epoch 49/50\n",
      "3017/3017 [==============================] - 1s - loss: 0.0655 - acc: 0.9874 - val_loss: 2.2671 - val_acc: 0.6507\n",
      "Epoch 50/50\n",
      "3017/3017 [==============================] - 1s - loss: 0.0629 - acc: 0.9877 - val_loss: 2.2671 - val_acc: 0.6647\n"
     ]
    }
   ],
   "source": [
    "# opt = optim.RMSprop(lr=1.2e-3)\n",
    "classifier.compile(loss='categorical_crossentropy',\n",
    "                   optimizer='RMSprop',\n",
    "                   metrics=['acc'])\n",
    "classifier.reset()\n",
    "hist = classifier.fit(trainset, validset, epochs=50, batch_size=128)"
   ]
  },
  {
   "cell_type": "code",
   "execution_count": null,
   "metadata": {
    "collapsed": true
   },
   "outputs": [],
   "source": []
  }
 ],
 "metadata": {
  "kernelspec": {
   "display_name": "Python 3",
   "language": "python",
   "name": "python3"
  },
  "language_info": {
   "codemirror_mode": {
    "name": "ipython",
    "version": 3
   },
   "file_extension": ".py",
   "mimetype": "text/x-python",
   "name": "python",
   "nbconvert_exporter": "python",
   "pygments_lexer": "ipython3",
   "version": "3.4.2"
  }
 },
 "nbformat": 4,
 "nbformat_minor": 2
}
